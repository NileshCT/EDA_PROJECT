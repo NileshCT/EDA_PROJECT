{
  "nbformat": 4,
  "nbformat_minor": 0,
  "metadata": {
    "colab": {
      "provenance": [],
      "mount_file_id": "https://github.com/NileshCT/EDA_PROJECT/blob/main/EDA_Project.ipynb",
      "authorship_tag": "ABX9TyPgQ51vUTW16H6m+zgyn4tU",
      "include_colab_link": true
    },
    "kernelspec": {
      "name": "python3",
      "display_name": "Python 3"
    },
    "language_info": {
      "name": "python"
    }
  },
  "cells": [
    {
      "cell_type": "markdown",
      "metadata": {
        "id": "view-in-github",
        "colab_type": "text"
      },
      "source": [
        "<a href=\"https://colab.research.google.com/github/NileshCT/EDA_PROJECT/blob/main/EDA_Project.ipynb\" target=\"_parent\"><img src=\"https://colab.research.google.com/assets/colab-badge.svg\" alt=\"Open In Colab\"/></a>"
      ]
    },
    {
      "cell_type": "markdown",
      "source": [
        "## **Exploratory data analysis in Python.**\n",
        "#It tells how to perform EDA in python and also what we needed to do.\n",
        "Exploratory Data Analysis or (EDA) is understanding the data sets by summarizing their main characteristics often plotting them visually. This step is very important especially when we arrive at modeling the data in order to apply Machine learning. Plotting in EDA consists of Histograms, Box plot, Scatter plot and many more. It often takes much time to explore the data. Through the process of EDA, we can ask to define the problem statement or definition on our data set which is very important."
      ],
      "metadata": {
        "id": "2Ai9aumNNS9y"
      }
    },
    {
      "cell_type": "markdown",
      "source": [
        "#Problem statements\n",
        "This dataset has around 66368 observations in it with 14 columns and it is a mix between categorical and numeric values. As per the initial observation the dataset consist of more catagorical data than numerical data."
      ],
      "metadata": {
        "id": "vRdod26xN9oC"
      }
    },
    {
      "cell_type": "markdown",
      "source": [
        "#Explore and analyze the data to discover key understandings such as :\n",
        "1.To know about the what are the insights in given dataset?\n",
        "2.Which company getting the more funding and how much?\n",
        "3.To explore which company getting more funding rounds and how much funding they got?\n",
        "4.To explore which company catagory the leading in the market?\n",
        "To get know the present status about the startups?\n",
        "5.Which country leading in startups?\n",
        "\n",
        "\n",
        "\n",
        "\n",
        "\n",
        "\n",
        "\n",
        "\n",
        "\n"
      ],
      "metadata": {
        "id": "-6-ZBAC5Rr2y"
      }
    },
    {
      "cell_type": "markdown",
      "source": [
        "# **Importing required labraries**"
      ],
      "metadata": {
        "id": "hThzhPEYmUR-"
      }
    },
    {
      "cell_type": "code",
      "execution_count": 97,
      "metadata": {
        "id": "Vfu-Y3-u9CLt"
      },
      "outputs": [],
      "source": [
        "#Below are the libraries that are used in order to perform EDA (Exploratory data analysis).\n",
        "import numpy as np\n",
        "import pandas as pd\n",
        "from sklearn import preprocessing\n",
        "from sklearn.feature_extraction.text import CountVectorizer, TfidfVectorizer\n",
        "from sklearn.model_selection import train_test_split, KFold\n",
        "from nltk.corpus import stopwords\n",
        "from nltk.stem.snowball import SnowballStemmer\n",
        "from sklearn.metrics import accuracy_score, classification_report\n",
        "import matplotlib\n",
        "from matplotlib import pyplot as plt\n",
        "import seaborn as sns\n",
        "%matplotlib inline\n",
        "%config InlineBackend.figure_format = 'retina'\n",
        "import warnings\n",
        "warnings.filterwarnings('ignore')"
      ]
    },
    {
      "cell_type": "markdown",
      "source": [
        "# **Loading the data into the data frame.**"
      ],
      "metadata": {
        "id": "w84zeovkmofT"
      }
    },
    {
      "cell_type": "markdown",
      "source": [
        "Loading the data into the pandas data frame is certainly one of the most important steps in EDA, as we can see that the value from the data set is comma-separated. So all we have to do is to just read the CSV into a data frame and pandas data frame does the job for us.\n"
      ],
      "metadata": {
        "id": "1VLhuhQ7WZrV"
      }
    },
    {
      "cell_type": "code",
      "source": [
        "#Import CSV file from google drive:\n",
        "data=pd.read_csv(\"/content/drive/MyDrive/dataset.csv\")\n"
      ],
      "metadata": {
        "id": "A5Bu99TyB4ea"
      },
      "execution_count": 98,
      "outputs": []
    },
    {
      "cell_type": "code",
      "source": [
        "#Lets display the top 5 row from dataset to explore column names, indexes better:\n",
        "data.head()"
      ],
      "metadata": {
        "colab": {
          "base_uri": "https://localhost:8080/",
          "height": 409
        },
        "id": "FgtAkplTCYF3",
        "outputId": "7da2090c-a513-4f3a-e89b-1d32525c75f9"
      },
      "execution_count": 99,
      "outputs": [
        {
          "output_type": "execute_result",
          "data": {
            "text/plain": [
              "                             permalink                    name  \\\n",
              "0                  /organization/-fame                   #fame   \n",
              "1               /organization/-qounter                :Qounter   \n",
              "2  /organization/-the-one-of-them-inc-  (THE) ONE of THEM,Inc.   \n",
              "3                /organization/0-6-com                 0-6.com   \n",
              "4       /organization/004-technologies        004 Technologies   \n",
              "\n",
              "                        homepage_url  \\\n",
              "0                 http://livfame.com   \n",
              "1             http://www.qounter.com   \n",
              "2                http://oneofthem.jp   \n",
              "3                 http://www.0-6.com   \n",
              "4  http://004gmbh.de/en/004-interact   \n",
              "\n",
              "                                       category_list funding_total_usd  \\\n",
              "0                                              Media          10000000   \n",
              "1  Application Platforms|Real Time|Social Network...            700000   \n",
              "2                                  Apps|Games|Mobile           3406878   \n",
              "3                                        Curated Web           2000000   \n",
              "4                                           Software                 -   \n",
              "\n",
              "      status country_code state_code                 region           city  \\\n",
              "0  operating          IND         16                 Mumbai         Mumbai   \n",
              "1  operating          USA         DE             DE - Other  Delaware City   \n",
              "2  operating          NaN        NaN                    NaN            NaN   \n",
              "3  operating          CHN         22                Beijing        Beijing   \n",
              "4  operating          USA         IL  Springfield, Illinois      Champaign   \n",
              "\n",
              "   funding_rounds  founded_at first_funding_at last_funding_at  \n",
              "0               1         NaN       2015-01-05      2015-01-05  \n",
              "1               2  2014-09-04       2014-03-01      2014-10-14  \n",
              "2               1         NaN       2014-01-30      2014-01-30  \n",
              "3               1  2007-01-01       2008-03-19      2008-03-19  \n",
              "4               1  2010-01-01       2014-07-24      2014-07-24  "
            ],
            "text/html": [
              "\n",
              "  <div id=\"df-19c3f606-91f7-4ff9-9622-a4fdc23fade1\">\n",
              "    <div class=\"colab-df-container\">\n",
              "      <div>\n",
              "<style scoped>\n",
              "    .dataframe tbody tr th:only-of-type {\n",
              "        vertical-align: middle;\n",
              "    }\n",
              "\n",
              "    .dataframe tbody tr th {\n",
              "        vertical-align: top;\n",
              "    }\n",
              "\n",
              "    .dataframe thead th {\n",
              "        text-align: right;\n",
              "    }\n",
              "</style>\n",
              "<table border=\"1\" class=\"dataframe\">\n",
              "  <thead>\n",
              "    <tr style=\"text-align: right;\">\n",
              "      <th></th>\n",
              "      <th>permalink</th>\n",
              "      <th>name</th>\n",
              "      <th>homepage_url</th>\n",
              "      <th>category_list</th>\n",
              "      <th>funding_total_usd</th>\n",
              "      <th>status</th>\n",
              "      <th>country_code</th>\n",
              "      <th>state_code</th>\n",
              "      <th>region</th>\n",
              "      <th>city</th>\n",
              "      <th>funding_rounds</th>\n",
              "      <th>founded_at</th>\n",
              "      <th>first_funding_at</th>\n",
              "      <th>last_funding_at</th>\n",
              "    </tr>\n",
              "  </thead>\n",
              "  <tbody>\n",
              "    <tr>\n",
              "      <th>0</th>\n",
              "      <td>/organization/-fame</td>\n",
              "      <td>#fame</td>\n",
              "      <td>http://livfame.com</td>\n",
              "      <td>Media</td>\n",
              "      <td>10000000</td>\n",
              "      <td>operating</td>\n",
              "      <td>IND</td>\n",
              "      <td>16</td>\n",
              "      <td>Mumbai</td>\n",
              "      <td>Mumbai</td>\n",
              "      <td>1</td>\n",
              "      <td>NaN</td>\n",
              "      <td>2015-01-05</td>\n",
              "      <td>2015-01-05</td>\n",
              "    </tr>\n",
              "    <tr>\n",
              "      <th>1</th>\n",
              "      <td>/organization/-qounter</td>\n",
              "      <td>:Qounter</td>\n",
              "      <td>http://www.qounter.com</td>\n",
              "      <td>Application Platforms|Real Time|Social Network...</td>\n",
              "      <td>700000</td>\n",
              "      <td>operating</td>\n",
              "      <td>USA</td>\n",
              "      <td>DE</td>\n",
              "      <td>DE - Other</td>\n",
              "      <td>Delaware City</td>\n",
              "      <td>2</td>\n",
              "      <td>2014-09-04</td>\n",
              "      <td>2014-03-01</td>\n",
              "      <td>2014-10-14</td>\n",
              "    </tr>\n",
              "    <tr>\n",
              "      <th>2</th>\n",
              "      <td>/organization/-the-one-of-them-inc-</td>\n",
              "      <td>(THE) ONE of THEM,Inc.</td>\n",
              "      <td>http://oneofthem.jp</td>\n",
              "      <td>Apps|Games|Mobile</td>\n",
              "      <td>3406878</td>\n",
              "      <td>operating</td>\n",
              "      <td>NaN</td>\n",
              "      <td>NaN</td>\n",
              "      <td>NaN</td>\n",
              "      <td>NaN</td>\n",
              "      <td>1</td>\n",
              "      <td>NaN</td>\n",
              "      <td>2014-01-30</td>\n",
              "      <td>2014-01-30</td>\n",
              "    </tr>\n",
              "    <tr>\n",
              "      <th>3</th>\n",
              "      <td>/organization/0-6-com</td>\n",
              "      <td>0-6.com</td>\n",
              "      <td>http://www.0-6.com</td>\n",
              "      <td>Curated Web</td>\n",
              "      <td>2000000</td>\n",
              "      <td>operating</td>\n",
              "      <td>CHN</td>\n",
              "      <td>22</td>\n",
              "      <td>Beijing</td>\n",
              "      <td>Beijing</td>\n",
              "      <td>1</td>\n",
              "      <td>2007-01-01</td>\n",
              "      <td>2008-03-19</td>\n",
              "      <td>2008-03-19</td>\n",
              "    </tr>\n",
              "    <tr>\n",
              "      <th>4</th>\n",
              "      <td>/organization/004-technologies</td>\n",
              "      <td>004 Technologies</td>\n",
              "      <td>http://004gmbh.de/en/004-interact</td>\n",
              "      <td>Software</td>\n",
              "      <td>-</td>\n",
              "      <td>operating</td>\n",
              "      <td>USA</td>\n",
              "      <td>IL</td>\n",
              "      <td>Springfield, Illinois</td>\n",
              "      <td>Champaign</td>\n",
              "      <td>1</td>\n",
              "      <td>2010-01-01</td>\n",
              "      <td>2014-07-24</td>\n",
              "      <td>2014-07-24</td>\n",
              "    </tr>\n",
              "  </tbody>\n",
              "</table>\n",
              "</div>\n",
              "      <button class=\"colab-df-convert\" onclick=\"convertToInteractive('df-19c3f606-91f7-4ff9-9622-a4fdc23fade1')\"\n",
              "              title=\"Convert this dataframe to an interactive table.\"\n",
              "              style=\"display:none;\">\n",
              "        \n",
              "  <svg xmlns=\"http://www.w3.org/2000/svg\" height=\"24px\"viewBox=\"0 0 24 24\"\n",
              "       width=\"24px\">\n",
              "    <path d=\"M0 0h24v24H0V0z\" fill=\"none\"/>\n",
              "    <path d=\"M18.56 5.44l.94 2.06.94-2.06 2.06-.94-2.06-.94-.94-2.06-.94 2.06-2.06.94zm-11 1L8.5 8.5l.94-2.06 2.06-.94-2.06-.94L8.5 2.5l-.94 2.06-2.06.94zm10 10l.94 2.06.94-2.06 2.06-.94-2.06-.94-.94-2.06-.94 2.06-2.06.94z\"/><path d=\"M17.41 7.96l-1.37-1.37c-.4-.4-.92-.59-1.43-.59-.52 0-1.04.2-1.43.59L10.3 9.45l-7.72 7.72c-.78.78-.78 2.05 0 2.83L4 21.41c.39.39.9.59 1.41.59.51 0 1.02-.2 1.41-.59l7.78-7.78 2.81-2.81c.8-.78.8-2.07 0-2.86zM5.41 20L4 18.59l7.72-7.72 1.47 1.35L5.41 20z\"/>\n",
              "  </svg>\n",
              "      </button>\n",
              "      \n",
              "  <style>\n",
              "    .colab-df-container {\n",
              "      display:flex;\n",
              "      flex-wrap:wrap;\n",
              "      gap: 12px;\n",
              "    }\n",
              "\n",
              "    .colab-df-convert {\n",
              "      background-color: #E8F0FE;\n",
              "      border: none;\n",
              "      border-radius: 50%;\n",
              "      cursor: pointer;\n",
              "      display: none;\n",
              "      fill: #1967D2;\n",
              "      height: 32px;\n",
              "      padding: 0 0 0 0;\n",
              "      width: 32px;\n",
              "    }\n",
              "\n",
              "    .colab-df-convert:hover {\n",
              "      background-color: #E2EBFA;\n",
              "      box-shadow: 0px 1px 2px rgba(60, 64, 67, 0.3), 0px 1px 3px 1px rgba(60, 64, 67, 0.15);\n",
              "      fill: #174EA6;\n",
              "    }\n",
              "\n",
              "    [theme=dark] .colab-df-convert {\n",
              "      background-color: #3B4455;\n",
              "      fill: #D2E3FC;\n",
              "    }\n",
              "\n",
              "    [theme=dark] .colab-df-convert:hover {\n",
              "      background-color: #434B5C;\n",
              "      box-shadow: 0px 1px 3px 1px rgba(0, 0, 0, 0.15);\n",
              "      filter: drop-shadow(0px 1px 2px rgba(0, 0, 0, 0.3));\n",
              "      fill: #FFFFFF;\n",
              "    }\n",
              "  </style>\n",
              "\n",
              "      <script>\n",
              "        const buttonEl =\n",
              "          document.querySelector('#df-19c3f606-91f7-4ff9-9622-a4fdc23fade1 button.colab-df-convert');\n",
              "        buttonEl.style.display =\n",
              "          google.colab.kernel.accessAllowed ? 'block' : 'none';\n",
              "\n",
              "        async function convertToInteractive(key) {\n",
              "          const element = document.querySelector('#df-19c3f606-91f7-4ff9-9622-a4fdc23fade1');\n",
              "          const dataTable =\n",
              "            await google.colab.kernel.invokeFunction('convertToInteractive',\n",
              "                                                     [key], {});\n",
              "          if (!dataTable) return;\n",
              "\n",
              "          const docLinkHtml = 'Like what you see? Visit the ' +\n",
              "            '<a target=\"_blank\" href=https://colab.research.google.com/notebooks/data_table.ipynb>data table notebook</a>'\n",
              "            + ' to learn more about interactive tables.';\n",
              "          element.innerHTML = '';\n",
              "          dataTable['output_type'] = 'display_data';\n",
              "          await google.colab.output.renderOutput(dataTable, element);\n",
              "          const docLink = document.createElement('div');\n",
              "          docLink.innerHTML = docLinkHtml;\n",
              "          element.appendChild(docLink);\n",
              "        }\n",
              "      </script>\n",
              "    </div>\n",
              "  </div>\n",
              "  "
            ]
          },
          "metadata": {},
          "execution_count": 99
        }
      ]
    },
    {
      "cell_type": "code",
      "source": [
        "#Lets display last 5 rows from dataset to explore column names, indexes better:\n",
        "data.tail()\n"
      ],
      "metadata": {
        "colab": {
          "base_uri": "https://localhost:8080/",
          "height": 461
        },
        "id": "JvE8KVxiCcym",
        "outputId": "a4258840-a663-4873-84cb-5b87d3fc185d"
      },
      "execution_count": 100,
      "outputs": [
        {
          "output_type": "execute_result",
          "data": {
            "text/plain": [
              "                                               permalink  \\\n",
              "66363  /organization/zznode-science-and-technology-co...   \n",
              "66364                          /organization/zzzzapp-com   \n",
              "66365                                /organization/Áeron   \n",
              "66366                              /organization/Ôasys-2   \n",
              "66367  /organization/İnovatiff-reklam-ve-tanıtım-hizm...   \n",
              "\n",
              "                                             name            homepage_url  \\\n",
              "66363               ZZNode Science and Technology   http://www.zznode.com   \n",
              "66364                       Zzzzapp Wireless ltd.  http://www.zzzzapp.com   \n",
              "66365                                       ÁERON    http://www.aeron.hu/   \n",
              "66366                                       Ôasys    http://www.oasys.io/   \n",
              "66367  İnovatiff Reklam ve Tanıtım Hizmetleri Tic    http://inovatiff.com   \n",
              "\n",
              "                                           category_list funding_total_usd  \\\n",
              "66363                                Enterprise Software           1587301   \n",
              "66364        Advertising|Mobile|Web Development|Wireless            114304   \n",
              "66365                                                NaN                 -   \n",
              "66366  Consumer Electronics|Internet of Things|Teleco...             18192   \n",
              "66367                 Consumer Goods|E-Commerce|Internet             14851   \n",
              "\n",
              "          status country_code state_code       region           city  \\\n",
              "66363  operating          CHN         22      Beijing        Beijing   \n",
              "66364  operating          HRV         15        Split          Split   \n",
              "66365  operating          NaN        NaN          NaN            NaN   \n",
              "66366  operating          USA         CA  SF Bay Area  San Francisco   \n",
              "66367  operating          NaN        NaN          NaN            NaN   \n",
              "\n",
              "       funding_rounds  founded_at first_funding_at last_funding_at  \n",
              "66363               1         NaN       2012-04-01      2012-04-01  \n",
              "66364               4  2012-05-13       2011-11-01      2014-03-01  \n",
              "66365               1  2011-01-01       2014-08-01      2014-08-01  \n",
              "66366               1  2014-01-01       2015-01-01      2015-01-01  \n",
              "66367               1         NaN       2013-10-01      2013-10-01  "
            ],
            "text/html": [
              "\n",
              "  <div id=\"df-fdaa4b1a-c123-4bc5-9477-e55177763888\">\n",
              "    <div class=\"colab-df-container\">\n",
              "      <div>\n",
              "<style scoped>\n",
              "    .dataframe tbody tr th:only-of-type {\n",
              "        vertical-align: middle;\n",
              "    }\n",
              "\n",
              "    .dataframe tbody tr th {\n",
              "        vertical-align: top;\n",
              "    }\n",
              "\n",
              "    .dataframe thead th {\n",
              "        text-align: right;\n",
              "    }\n",
              "</style>\n",
              "<table border=\"1\" class=\"dataframe\">\n",
              "  <thead>\n",
              "    <tr style=\"text-align: right;\">\n",
              "      <th></th>\n",
              "      <th>permalink</th>\n",
              "      <th>name</th>\n",
              "      <th>homepage_url</th>\n",
              "      <th>category_list</th>\n",
              "      <th>funding_total_usd</th>\n",
              "      <th>status</th>\n",
              "      <th>country_code</th>\n",
              "      <th>state_code</th>\n",
              "      <th>region</th>\n",
              "      <th>city</th>\n",
              "      <th>funding_rounds</th>\n",
              "      <th>founded_at</th>\n",
              "      <th>first_funding_at</th>\n",
              "      <th>last_funding_at</th>\n",
              "    </tr>\n",
              "  </thead>\n",
              "  <tbody>\n",
              "    <tr>\n",
              "      <th>66363</th>\n",
              "      <td>/organization/zznode-science-and-technology-co...</td>\n",
              "      <td>ZZNode Science and Technology</td>\n",
              "      <td>http://www.zznode.com</td>\n",
              "      <td>Enterprise Software</td>\n",
              "      <td>1587301</td>\n",
              "      <td>operating</td>\n",
              "      <td>CHN</td>\n",
              "      <td>22</td>\n",
              "      <td>Beijing</td>\n",
              "      <td>Beijing</td>\n",
              "      <td>1</td>\n",
              "      <td>NaN</td>\n",
              "      <td>2012-04-01</td>\n",
              "      <td>2012-04-01</td>\n",
              "    </tr>\n",
              "    <tr>\n",
              "      <th>66364</th>\n",
              "      <td>/organization/zzzzapp-com</td>\n",
              "      <td>Zzzzapp Wireless ltd.</td>\n",
              "      <td>http://www.zzzzapp.com</td>\n",
              "      <td>Advertising|Mobile|Web Development|Wireless</td>\n",
              "      <td>114304</td>\n",
              "      <td>operating</td>\n",
              "      <td>HRV</td>\n",
              "      <td>15</td>\n",
              "      <td>Split</td>\n",
              "      <td>Split</td>\n",
              "      <td>4</td>\n",
              "      <td>2012-05-13</td>\n",
              "      <td>2011-11-01</td>\n",
              "      <td>2014-03-01</td>\n",
              "    </tr>\n",
              "    <tr>\n",
              "      <th>66365</th>\n",
              "      <td>/organization/Áeron</td>\n",
              "      <td>ÁERON</td>\n",
              "      <td>http://www.aeron.hu/</td>\n",
              "      <td>NaN</td>\n",
              "      <td>-</td>\n",
              "      <td>operating</td>\n",
              "      <td>NaN</td>\n",
              "      <td>NaN</td>\n",
              "      <td>NaN</td>\n",
              "      <td>NaN</td>\n",
              "      <td>1</td>\n",
              "      <td>2011-01-01</td>\n",
              "      <td>2014-08-01</td>\n",
              "      <td>2014-08-01</td>\n",
              "    </tr>\n",
              "    <tr>\n",
              "      <th>66366</th>\n",
              "      <td>/organization/Ôasys-2</td>\n",
              "      <td>Ôasys</td>\n",
              "      <td>http://www.oasys.io/</td>\n",
              "      <td>Consumer Electronics|Internet of Things|Teleco...</td>\n",
              "      <td>18192</td>\n",
              "      <td>operating</td>\n",
              "      <td>USA</td>\n",
              "      <td>CA</td>\n",
              "      <td>SF Bay Area</td>\n",
              "      <td>San Francisco</td>\n",
              "      <td>1</td>\n",
              "      <td>2014-01-01</td>\n",
              "      <td>2015-01-01</td>\n",
              "      <td>2015-01-01</td>\n",
              "    </tr>\n",
              "    <tr>\n",
              "      <th>66367</th>\n",
              "      <td>/organization/İnovatiff-reklam-ve-tanıtım-hizm...</td>\n",
              "      <td>İnovatiff Reklam ve Tanıtım Hizmetleri Tic</td>\n",
              "      <td>http://inovatiff.com</td>\n",
              "      <td>Consumer Goods|E-Commerce|Internet</td>\n",
              "      <td>14851</td>\n",
              "      <td>operating</td>\n",
              "      <td>NaN</td>\n",
              "      <td>NaN</td>\n",
              "      <td>NaN</td>\n",
              "      <td>NaN</td>\n",
              "      <td>1</td>\n",
              "      <td>NaN</td>\n",
              "      <td>2013-10-01</td>\n",
              "      <td>2013-10-01</td>\n",
              "    </tr>\n",
              "  </tbody>\n",
              "</table>\n",
              "</div>\n",
              "      <button class=\"colab-df-convert\" onclick=\"convertToInteractive('df-fdaa4b1a-c123-4bc5-9477-e55177763888')\"\n",
              "              title=\"Convert this dataframe to an interactive table.\"\n",
              "              style=\"display:none;\">\n",
              "        \n",
              "  <svg xmlns=\"http://www.w3.org/2000/svg\" height=\"24px\"viewBox=\"0 0 24 24\"\n",
              "       width=\"24px\">\n",
              "    <path d=\"M0 0h24v24H0V0z\" fill=\"none\"/>\n",
              "    <path d=\"M18.56 5.44l.94 2.06.94-2.06 2.06-.94-2.06-.94-.94-2.06-.94 2.06-2.06.94zm-11 1L8.5 8.5l.94-2.06 2.06-.94-2.06-.94L8.5 2.5l-.94 2.06-2.06.94zm10 10l.94 2.06.94-2.06 2.06-.94-2.06-.94-.94-2.06-.94 2.06-2.06.94z\"/><path d=\"M17.41 7.96l-1.37-1.37c-.4-.4-.92-.59-1.43-.59-.52 0-1.04.2-1.43.59L10.3 9.45l-7.72 7.72c-.78.78-.78 2.05 0 2.83L4 21.41c.39.39.9.59 1.41.59.51 0 1.02-.2 1.41-.59l7.78-7.78 2.81-2.81c.8-.78.8-2.07 0-2.86zM5.41 20L4 18.59l7.72-7.72 1.47 1.35L5.41 20z\"/>\n",
              "  </svg>\n",
              "      </button>\n",
              "      \n",
              "  <style>\n",
              "    .colab-df-container {\n",
              "      display:flex;\n",
              "      flex-wrap:wrap;\n",
              "      gap: 12px;\n",
              "    }\n",
              "\n",
              "    .colab-df-convert {\n",
              "      background-color: #E8F0FE;\n",
              "      border: none;\n",
              "      border-radius: 50%;\n",
              "      cursor: pointer;\n",
              "      display: none;\n",
              "      fill: #1967D2;\n",
              "      height: 32px;\n",
              "      padding: 0 0 0 0;\n",
              "      width: 32px;\n",
              "    }\n",
              "\n",
              "    .colab-df-convert:hover {\n",
              "      background-color: #E2EBFA;\n",
              "      box-shadow: 0px 1px 2px rgba(60, 64, 67, 0.3), 0px 1px 3px 1px rgba(60, 64, 67, 0.15);\n",
              "      fill: #174EA6;\n",
              "    }\n",
              "\n",
              "    [theme=dark] .colab-df-convert {\n",
              "      background-color: #3B4455;\n",
              "      fill: #D2E3FC;\n",
              "    }\n",
              "\n",
              "    [theme=dark] .colab-df-convert:hover {\n",
              "      background-color: #434B5C;\n",
              "      box-shadow: 0px 1px 3px 1px rgba(0, 0, 0, 0.15);\n",
              "      filter: drop-shadow(0px 1px 2px rgba(0, 0, 0, 0.3));\n",
              "      fill: #FFFFFF;\n",
              "    }\n",
              "  </style>\n",
              "\n",
              "      <script>\n",
              "        const buttonEl =\n",
              "          document.querySelector('#df-fdaa4b1a-c123-4bc5-9477-e55177763888 button.colab-df-convert');\n",
              "        buttonEl.style.display =\n",
              "          google.colab.kernel.accessAllowed ? 'block' : 'none';\n",
              "\n",
              "        async function convertToInteractive(key) {\n",
              "          const element = document.querySelector('#df-fdaa4b1a-c123-4bc5-9477-e55177763888');\n",
              "          const dataTable =\n",
              "            await google.colab.kernel.invokeFunction('convertToInteractive',\n",
              "                                                     [key], {});\n",
              "          if (!dataTable) return;\n",
              "\n",
              "          const docLinkHtml = 'Like what you see? Visit the ' +\n",
              "            '<a target=\"_blank\" href=https://colab.research.google.com/notebooks/data_table.ipynb>data table notebook</a>'\n",
              "            + ' to learn more about interactive tables.';\n",
              "          element.innerHTML = '';\n",
              "          dataTable['output_type'] = 'display_data';\n",
              "          await google.colab.output.renderOutput(dataTable, element);\n",
              "          const docLink = document.createElement('div');\n",
              "          docLink.innerHTML = docLinkHtml;\n",
              "          element.appendChild(docLink);\n",
              "        }\n",
              "      </script>\n",
              "    </div>\n",
              "  </div>\n",
              "  "
            ]
          },
          "metadata": {},
          "execution_count": 100
        }
      ]
    },
    {
      "cell_type": "markdown",
      "source": [
        "# **Checking the types of data.**"
      ],
      "metadata": {
        "id": "RfhbMWcWXrm2"
      }
    },
    {
      "cell_type": "code",
      "source": [
        "#Lets get the data type of each column of a dataframe:\n",
        "#Data frame consist of only one int column and all other type consist of object type.\n",
        "#The dataframe consist of more catagorical values it means the given dataset have more therotical information instade of numerical informations.\n",
        "data.dtypes"
      ],
      "metadata": {
        "colab": {
          "base_uri": "https://localhost:8080/"
        },
        "id": "aMaOlsHgXxON",
        "outputId": "a224fbef-0cf4-4ecf-c666-caada696a115"
      },
      "execution_count": 101,
      "outputs": [
        {
          "output_type": "execute_result",
          "data": {
            "text/plain": [
              "permalink            object\n",
              "name                 object\n",
              "homepage_url         object\n",
              "category_list        object\n",
              "funding_total_usd    object\n",
              "status               object\n",
              "country_code         object\n",
              "state_code           object\n",
              "region               object\n",
              "city                 object\n",
              "funding_rounds        int64\n",
              "founded_at           object\n",
              "first_funding_at     object\n",
              "last_funding_at      object\n",
              "dtype: object"
            ]
          },
          "metadata": {},
          "execution_count": 101
        }
      ]
    },
    {
      "cell_type": "code",
      "source": [
        "#Lets display non-null value from data frame.\n",
        "data.info()"
      ],
      "metadata": {
        "colab": {
          "base_uri": "https://localhost:8080/"
        },
        "id": "FHBSt29KCfyu",
        "outputId": "fe0a853e-a217-4ed3-d6a1-c494523d970c"
      },
      "execution_count": 102,
      "outputs": [
        {
          "output_type": "stream",
          "name": "stdout",
          "text": [
            "<class 'pandas.core.frame.DataFrame'>\n",
            "RangeIndex: 66368 entries, 0 to 66367\n",
            "Data columns (total 14 columns):\n",
            " #   Column             Non-Null Count  Dtype \n",
            "---  ------             --------------  ----- \n",
            " 0   permalink          66368 non-null  object\n",
            " 1   name               66367 non-null  object\n",
            " 2   homepage_url       61310 non-null  object\n",
            " 3   category_list      63220 non-null  object\n",
            " 4   funding_total_usd  66368 non-null  object\n",
            " 5   status             66368 non-null  object\n",
            " 6   country_code       59410 non-null  object\n",
            " 7   state_code         57821 non-null  object\n",
            " 8   region             58338 non-null  object\n",
            " 9   city               58340 non-null  object\n",
            " 10  funding_rounds     66368 non-null  int64 \n",
            " 11  founded_at         51147 non-null  object\n",
            " 12  first_funding_at   66344 non-null  object\n",
            " 13  last_funding_at    66368 non-null  object\n",
            "dtypes: int64(1), object(13)\n",
            "memory usage: 7.1+ MB\n"
          ]
        }
      ]
    },
    {
      "cell_type": "code",
      "source": [
        "#Lets understand the number of rows and column in dataset.\n",
        "#Given dataset consist of 66368 rows and total 14 column.\n",
        "data.shape"
      ],
      "metadata": {
        "colab": {
          "base_uri": "https://localhost:8080/"
        },
        "id": "40L11UQoCkk7",
        "outputId": "8f595a6b-3cd0-4939-9055-35f54f59378e"
      },
      "execution_count": 103,
      "outputs": [
        {
          "output_type": "execute_result",
          "data": {
            "text/plain": [
              "(66368, 14)"
            ]
          },
          "metadata": {},
          "execution_count": 103
        }
      ]
    },
    {
      "cell_type": "code",
      "source": [
        "data['status'].unique()"
      ],
      "metadata": {
        "id": "EI4PL9s6yQhY",
        "outputId": "549ea4cc-94a4-45b4-8636-b0c9b0e6bc62",
        "colab": {
          "base_uri": "https://localhost:8080/"
        }
      },
      "execution_count": 122,
      "outputs": [
        {
          "output_type": "execute_result",
          "data": {
            "text/plain": [
              "array(['operating', 'acquired', 'closed', 'ipo'], dtype=object)"
            ]
          },
          "metadata": {},
          "execution_count": 122
        }
      ]
    },
    {
      "cell_type": "code",
      "source": [
        "data['name'].unique()"
      ],
      "metadata": {
        "id": "tj6N4rLPyrQ9",
        "outputId": "be00b448-f1e7-4871-81e2-63e694b8da3d",
        "colab": {
          "base_uri": "https://localhost:8080/"
        }
      },
      "execution_count": 125,
      "outputs": [
        {
          "output_type": "execute_result",
          "data": {
            "text/plain": [
              "array(['#fame', ':Qounter', '(THE) ONE of THEM,Inc.', ..., 'ÁERON',\n",
              "       'Ôasys', 'İnovatiff Reklam ve Tanıtım Hizmetleri Tic'],\n",
              "      dtype=object)"
            ]
          },
          "metadata": {},
          "execution_count": 125
        }
      ]
    },
    {
      "cell_type": "code",
      "source": [
        "data['category_list'].unique()"
      ],
      "metadata": {
        "id": "FrOOizS8ya89",
        "outputId": "bd68de2e-84a5-4ec9-be69-f204bb0f3d18",
        "colab": {
          "base_uri": "https://localhost:8080/"
        }
      },
      "execution_count": 124,
      "outputs": [
        {
          "output_type": "execute_result",
          "data": {
            "text/plain": [
              "array(['Media', 'Application Platforms|Real Time|Social Network Media',\n",
              "       'Apps|Games|Mobile', ...,\n",
              "       'Advertising|Mobile|Web Development|Wireless',\n",
              "       'Consumer Electronics|Internet of Things|Telecommunications',\n",
              "       'Consumer Goods|E-Commerce|Internet'], dtype=object)"
            ]
          },
          "metadata": {},
          "execution_count": 124
        }
      ]
    },
    {
      "cell_type": "code",
      "source": [
        "data['country_code'].unique()"
      ],
      "metadata": {
        "id": "A4h-31U5ykrt",
        "outputId": "4c46df84-42f5-43da-c92c-d92a9959d83f",
        "colab": {
          "base_uri": "https://localhost:8080/"
        }
      },
      "execution_count": 126,
      "outputs": [
        {
          "output_type": "execute_result",
          "data": {
            "text/plain": [
              "array(['IND', 'USA', nan, 'CHN', 'HKG', 'CAN', 'CHL', 'GBR', 'FRA', 'AUS',\n",
              "       'DNK', 'ROM', 'AUT', 'KOR', 'NLD', 'SWE', 'JPN', 'RUS', 'SGP',\n",
              "       'NOR', 'COL', 'ESP', 'BEL', 'IRL', 'ITA', 'ISR', 'NZL', 'CZE',\n",
              "       'DEU', 'CHE', 'BRA', 'BGR', 'SVN', 'JOR', 'HUN', 'BWA', 'NGA',\n",
              "       'FIN', 'TUR', 'IDN', 'ARE', 'CYP', 'POL', 'CRI', 'PRT', 'ARG',\n",
              "       'TWN', 'KHM', 'THA', 'SVK', 'UKR', 'LTU', 'ISL', 'ZAF', 'MEX',\n",
              "       'VEN', 'URY', 'MUS', 'KEN', 'PHL', 'MNE', 'VNM', 'GHA', 'PSE',\n",
              "       'MYS', 'PER', 'EGY', 'PAN', 'LVA', 'GGY', 'ALB', 'UGA', 'HRV',\n",
              "       'EST', 'LBN', 'GRC', 'PAK', 'NPL', 'LUX', 'SAU', 'IRN', 'GTM',\n",
              "       'BAH', 'ARM', 'BGD', 'MDA', 'SRB', 'TUN', 'ZWE', 'BRB', 'NIC',\n",
              "       'TAN', 'PRI', 'TTO', 'BHR', 'CMR', 'BLR', 'CYM', 'BRN', 'ECU',\n",
              "       'SLV', 'MLT', 'ZMB', 'MKD', 'GIB', 'TGO', 'LAO', 'BMU', 'HND',\n",
              "       'MCO', 'MMR', 'KAZ', 'QAT', 'DOM', 'MAR', 'LIE', 'GEO', 'MOZ',\n",
              "       'DZA', 'JAM', 'KNA', 'AZE', 'SEN', 'RWA', 'DMA', 'UZB', 'BLZ',\n",
              "       'OMN', 'JEY', 'KWT', 'CIV', 'BLM', 'GRD', 'LKA', 'SOM', 'SYC',\n",
              "       'PRY', 'MAF'], dtype=object)"
            ]
          },
          "metadata": {},
          "execution_count": 126
        }
      ]
    },
    {
      "cell_type": "code",
      "source": [
        "data['state_code'].unique()"
      ],
      "metadata": {
        "id": "KIOMf7P_yzp9",
        "outputId": "08b0d5de-33ba-4190-9a36-5f0d9ef90513",
        "colab": {
          "base_uri": "https://localhost:8080/"
        }
      },
      "execution_count": 128,
      "outputs": [
        {
          "output_type": "execute_result",
          "data": {
            "text/plain": [
              "array(['16', 'DE', nan, '22', 'IL', 'BC', 'CA', '12', 'NC', 'FL', 'NJ',\n",
              "       'NY', 'MD', 'H9', 'OR', 'WA', '25', 'MA', 'A8', 'A9', '23', 'WI',\n",
              "       'ON', 'OH', '2', 'AL', '21', 'TX', '7', 'RI', '36', '9', 'C3',\n",
              "       '13', '11', '26', 'TN', '30', '19', '4', 'VA', '48', '17', 'IA',\n",
              "       '34', 'DC', 'NH', '53', 'LA', 'VT', 'GA', '20', '10', '5', '29',\n",
              "       'IN', 'CO', 'E7', 'P2', '1', 'NV', '40', 'PA', '52', 'MI', '18',\n",
              "       '6', 'A2', 'MN', 'SC', '42', 'B4', 'CT', '61', 'KY', 'UT', 'AZ',\n",
              "       'AR', '32', 'K4', 'B8', 'A6', 'I9', 'NS', 'N5', 'G5', 'U8', 'H3',\n",
              "       'G2', 'G7', '27', '3', '24', '71', '56', 'MT', 'B7', 'ID', '66',\n",
              "       'ME', '78', '8', 'K2', 'KS', 'M3', 'L9', 'E1', 'QC', 'C5', 'J8',\n",
              "       'OK', 'E4', 'F2', 'V6', 'Q4', 'H2', 'MO', 'E9', 'P6', 'V2', 'F8',\n",
              "       '14', 'AB', 'J9', '65', 'A4', 'C9', 'HI', 'Q5', 'H8', 'A5', 'NL',\n",
              "       'A7', 'I2', 'B9', '97', '60', '28', 'NE', 'J2', 'AK', '86', 'NM',\n",
              "       'V8', 'G8', 'R3', 'F4', 'I7', 'Z1', '15', 'N3', 'N7', '31', 'WV',\n",
              "       'P8', 'B5', '98', 'A3', 'SD', 'MS', 'K3', 'P9', 'E2', '77', 'P3',\n",
              "       '59', 'F9', 'Y4', 'K7', 'D9', 'I5', '50', '72', 'Z7', '51', '37',\n",
              "       '55', 'D4', 'C7', '35', 'E6', 'J6', 'ND', 'B6', 'NB', 'P4', 'I6',\n",
              "       'Q2', 'MB', 'B3', 'X5', 'N1', 'D8', 'X2', 'X4', '83', '73', 'H5',\n",
              "       'D2', '58', 'N2', 'B2', '38', '81', 'M4', '90', '57', '39', '44',\n",
              "       'V5', 'N4', '68', 'X3', 'B1', 'O2', 'J1', '82', 'G1', 'SK', '54',\n",
              "       '47', 'T6', 'A1', '33', 'C8', 'W9', 'J7', 'C1', 'Y6', 'W6', 'V1',\n",
              "       'L7', 'H4', 'M2', 'W5', '46', 'M9', 'T5', 'O3', 'WY', 'Q1', 'X1',\n",
              "       'R6', 'E8', 'M5', '41', 'H7', 'T7', 'T9', 'U3', 'C6', 'W1', 'L3',\n",
              "       'D3', 'E5', 'U6', 'F1', 'L8', 'D7', 'VI', 'Y9', 'L1', 'Y2', 'F7',\n",
              "       'PE', '87', 'GU', '45', 'Q3', 'L6', 'I4', 'P5', 'X7', '49', 'Q6',\n",
              "       'C2', 'V3', 'V7', '89', '99', 'W2', '79', 'J4', 'W4', '43', '88',\n",
              "       'D6', 'E3', 'U1', 'G3', 'T8', 'D5', '91', 'W3', 'O1', 'Z3', 'WE',\n",
              "       'Y1', 'J3', 'V9', 'F5', 'Z8', 'M8', 'K8', 'J5', '62', 'Y5', 'NU',\n",
              "       '75', 'P1', 'Y7', 'G4'], dtype=object)"
            ]
          },
          "metadata": {},
          "execution_count": 128
        }
      ]
    },
    {
      "cell_type": "code",
      "source": [
        "data['region'].unique()"
      ],
      "metadata": {
        "id": "uach7m29y7Y1",
        "outputId": "2363091e-9411-4122-ba4c-9df40fe4a306",
        "colab": {
          "base_uri": "https://localhost:8080/"
        }
      },
      "execution_count": 129,
      "outputs": [
        {
          "output_type": "execute_result",
          "data": {
            "text/plain": [
              "array(['Mumbai', 'DE - Other', nan, ..., 'Gardanne', 'Cancun', 'Muenchen'],\n",
              "      dtype=object)"
            ]
          },
          "metadata": {},
          "execution_count": 129
        }
      ]
    },
    {
      "cell_type": "code",
      "source": [
        "data['city'].unique()"
      ],
      "metadata": {
        "id": "6unFlln2zB4G",
        "outputId": "4de37742-c6bb-47f0-be15-400681318494",
        "colab": {
          "base_uri": "https://localhost:8080/"
        }
      },
      "execution_count": 130,
      "outputs": [
        {
          "output_type": "execute_result",
          "data": {
            "text/plain": [
              "array(['Mumbai', 'Delaware City', nan, ..., 'Uberlândia', 'Zwolle',\n",
              "       'Damansara New Village'], dtype=object)"
            ]
          },
          "metadata": {},
          "execution_count": 130
        }
      ]
    },
    {
      "cell_type": "code",
      "source": [
        "data['funding_rounds'].unique()"
      ],
      "metadata": {
        "id": "8wZvFyIBzHYN",
        "outputId": "cd26ad75-d0e1-4850-c47a-4550cb900609",
        "colab": {
          "base_uri": "https://localhost:8080/"
        }
      },
      "execution_count": 131,
      "outputs": [
        {
          "output_type": "execute_result",
          "data": {
            "text/plain": [
              "array([ 1,  2,  4,  3,  9,  5,  6,  7,  8, 10, 11, 12, 15, 13, 14, 17, 18,\n",
              "       16, 19])"
            ]
          },
          "metadata": {},
          "execution_count": 131
        }
      ]
    },
    {
      "cell_type": "code",
      "source": [
        "data['founded_at'].unique()"
      ],
      "metadata": {
        "id": "4WW_qC3YzQOP",
        "outputId": "8746d5c4-3c82-4216-8cca-cbac0dcf391c",
        "colab": {
          "base_uri": "https://localhost:8080/"
        }
      },
      "execution_count": 133,
      "outputs": [
        {
          "output_type": "execute_result",
          "data": {
            "text/plain": [
              "array([nan, '2014-09-04', '2007-01-01', ..., '2006-06-24', '2005-06-21',\n",
              "       '2006-10-27'], dtype=object)"
            ]
          },
          "metadata": {},
          "execution_count": 133
        }
      ]
    },
    {
      "cell_type": "code",
      "source": [
        "#Lets get information about the unique valuses from each column of data frame.\n",
        "data.nunique()"
      ],
      "metadata": {
        "colab": {
          "base_uri": "https://localhost:8080/"
        },
        "id": "O4cHd92iE3Lh",
        "outputId": "135b3613-696d-40c6-8c9d-c55e2f86d763"
      },
      "execution_count": 104,
      "outputs": [
        {
          "output_type": "execute_result",
          "data": {
            "text/plain": [
              "permalink            66368\n",
              "name                 66102\n",
              "homepage_url         61191\n",
              "category_list        27296\n",
              "funding_total_usd    18896\n",
              "status                   4\n",
              "country_code           137\n",
              "state_code             311\n",
              "region                1092\n",
              "city                  5111\n",
              "funding_rounds          19\n",
              "founded_at            3978\n",
              "first_funding_at      4817\n",
              "last_funding_at       4518\n",
              "dtype: int64"
            ]
          },
          "metadata": {},
          "execution_count": 104
        }
      ]
    },
    {
      "cell_type": "markdown",
      "source": [
        "**Visualize the Unique counts**"
      ],
      "metadata": {
        "id": "2bj88d-jQuNu"
      }
    },
    {
      "cell_type": "markdown",
      "source": [
        "Following code help to visualize the unique values present in the data. For this, we will be using the seaborn library. You have to call the sns.countlot() function and specify the variable to plot the count plot."
      ],
      "metadata": {
        "id": "cRbXOww-Q1Xf"
      }
    },
    {
      "cell_type": "code",
      "source": [
        "sns.set_theme(style=\"whitegrid\")"
      ],
      "metadata": {
        "id": "oKAAshbbktOx"
      },
      "execution_count": 105,
      "outputs": []
    },
    {
      "cell_type": "code",
      "source": [
        "#To understands the statistics of columns that have numeric data types:\n",
        "#Here we got total number of counts,means value,max-min,std values as below. \n",
        "data.describe()"
      ],
      "metadata": {
        "colab": {
          "base_uri": "https://localhost:8080/",
          "height": 300
        },
        "id": "Nv7tbTw4E9n6",
        "outputId": "e620bfa9-348d-4cfb-cf11-9213ba63a8ec"
      },
      "execution_count": 106,
      "outputs": [
        {
          "output_type": "execute_result",
          "data": {
            "text/plain": [
              "       funding_rounds\n",
              "count    66368.000000\n",
              "mean         1.732522\n",
              "std          1.360251\n",
              "min          1.000000\n",
              "25%          1.000000\n",
              "50%          1.000000\n",
              "75%          2.000000\n",
              "max         19.000000"
            ],
            "text/html": [
              "\n",
              "  <div id=\"df-716e483b-c08b-425f-ada7-b4a96b4a30fd\">\n",
              "    <div class=\"colab-df-container\">\n",
              "      <div>\n",
              "<style scoped>\n",
              "    .dataframe tbody tr th:only-of-type {\n",
              "        vertical-align: middle;\n",
              "    }\n",
              "\n",
              "    .dataframe tbody tr th {\n",
              "        vertical-align: top;\n",
              "    }\n",
              "\n",
              "    .dataframe thead th {\n",
              "        text-align: right;\n",
              "    }\n",
              "</style>\n",
              "<table border=\"1\" class=\"dataframe\">\n",
              "  <thead>\n",
              "    <tr style=\"text-align: right;\">\n",
              "      <th></th>\n",
              "      <th>funding_rounds</th>\n",
              "    </tr>\n",
              "  </thead>\n",
              "  <tbody>\n",
              "    <tr>\n",
              "      <th>count</th>\n",
              "      <td>66368.000000</td>\n",
              "    </tr>\n",
              "    <tr>\n",
              "      <th>mean</th>\n",
              "      <td>1.732522</td>\n",
              "    </tr>\n",
              "    <tr>\n",
              "      <th>std</th>\n",
              "      <td>1.360251</td>\n",
              "    </tr>\n",
              "    <tr>\n",
              "      <th>min</th>\n",
              "      <td>1.000000</td>\n",
              "    </tr>\n",
              "    <tr>\n",
              "      <th>25%</th>\n",
              "      <td>1.000000</td>\n",
              "    </tr>\n",
              "    <tr>\n",
              "      <th>50%</th>\n",
              "      <td>1.000000</td>\n",
              "    </tr>\n",
              "    <tr>\n",
              "      <th>75%</th>\n",
              "      <td>2.000000</td>\n",
              "    </tr>\n",
              "    <tr>\n",
              "      <th>max</th>\n",
              "      <td>19.000000</td>\n",
              "    </tr>\n",
              "  </tbody>\n",
              "</table>\n",
              "</div>\n",
              "      <button class=\"colab-df-convert\" onclick=\"convertToInteractive('df-716e483b-c08b-425f-ada7-b4a96b4a30fd')\"\n",
              "              title=\"Convert this dataframe to an interactive table.\"\n",
              "              style=\"display:none;\">\n",
              "        \n",
              "  <svg xmlns=\"http://www.w3.org/2000/svg\" height=\"24px\"viewBox=\"0 0 24 24\"\n",
              "       width=\"24px\">\n",
              "    <path d=\"M0 0h24v24H0V0z\" fill=\"none\"/>\n",
              "    <path d=\"M18.56 5.44l.94 2.06.94-2.06 2.06-.94-2.06-.94-.94-2.06-.94 2.06-2.06.94zm-11 1L8.5 8.5l.94-2.06 2.06-.94-2.06-.94L8.5 2.5l-.94 2.06-2.06.94zm10 10l.94 2.06.94-2.06 2.06-.94-2.06-.94-.94-2.06-.94 2.06-2.06.94z\"/><path d=\"M17.41 7.96l-1.37-1.37c-.4-.4-.92-.59-1.43-.59-.52 0-1.04.2-1.43.59L10.3 9.45l-7.72 7.72c-.78.78-.78 2.05 0 2.83L4 21.41c.39.39.9.59 1.41.59.51 0 1.02-.2 1.41-.59l7.78-7.78 2.81-2.81c.8-.78.8-2.07 0-2.86zM5.41 20L4 18.59l7.72-7.72 1.47 1.35L5.41 20z\"/>\n",
              "  </svg>\n",
              "      </button>\n",
              "      \n",
              "  <style>\n",
              "    .colab-df-container {\n",
              "      display:flex;\n",
              "      flex-wrap:wrap;\n",
              "      gap: 12px;\n",
              "    }\n",
              "\n",
              "    .colab-df-convert {\n",
              "      background-color: #E8F0FE;\n",
              "      border: none;\n",
              "      border-radius: 50%;\n",
              "      cursor: pointer;\n",
              "      display: none;\n",
              "      fill: #1967D2;\n",
              "      height: 32px;\n",
              "      padding: 0 0 0 0;\n",
              "      width: 32px;\n",
              "    }\n",
              "\n",
              "    .colab-df-convert:hover {\n",
              "      background-color: #E2EBFA;\n",
              "      box-shadow: 0px 1px 2px rgba(60, 64, 67, 0.3), 0px 1px 3px 1px rgba(60, 64, 67, 0.15);\n",
              "      fill: #174EA6;\n",
              "    }\n",
              "\n",
              "    [theme=dark] .colab-df-convert {\n",
              "      background-color: #3B4455;\n",
              "      fill: #D2E3FC;\n",
              "    }\n",
              "\n",
              "    [theme=dark] .colab-df-convert:hover {\n",
              "      background-color: #434B5C;\n",
              "      box-shadow: 0px 1px 3px 1px rgba(0, 0, 0, 0.15);\n",
              "      filter: drop-shadow(0px 1px 2px rgba(0, 0, 0, 0.3));\n",
              "      fill: #FFFFFF;\n",
              "    }\n",
              "  </style>\n",
              "\n",
              "      <script>\n",
              "        const buttonEl =\n",
              "          document.querySelector('#df-716e483b-c08b-425f-ada7-b4a96b4a30fd button.colab-df-convert');\n",
              "        buttonEl.style.display =\n",
              "          google.colab.kernel.accessAllowed ? 'block' : 'none';\n",
              "\n",
              "        async function convertToInteractive(key) {\n",
              "          const element = document.querySelector('#df-716e483b-c08b-425f-ada7-b4a96b4a30fd');\n",
              "          const dataTable =\n",
              "            await google.colab.kernel.invokeFunction('convertToInteractive',\n",
              "                                                     [key], {});\n",
              "          if (!dataTable) return;\n",
              "\n",
              "          const docLinkHtml = 'Like what you see? Visit the ' +\n",
              "            '<a target=\"_blank\" href=https://colab.research.google.com/notebooks/data_table.ipynb>data table notebook</a>'\n",
              "            + ' to learn more about interactive tables.';\n",
              "          element.innerHTML = '';\n",
              "          dataTable['output_type'] = 'display_data';\n",
              "          await google.colab.output.renderOutput(dataTable, element);\n",
              "          const docLink = document.createElement('div');\n",
              "          docLink.innerHTML = docLinkHtml;\n",
              "          element.appendChild(docLink);\n",
              "        }\n",
              "      </script>\n",
              "    </div>\n",
              "  </div>\n",
              "  "
            ]
          },
          "metadata": {},
          "execution_count": 106
        }
      ]
    },
    {
      "cell_type": "code",
      "source": [
        "#Lets explore the information in datas frame.\n",
        "data.describe(include='all')"
      ],
      "metadata": {
        "colab": {
          "base_uri": "https://localhost:8080/",
          "height": 475
        },
        "id": "1IYVJjlUrNaU",
        "outputId": "11ac7ad0-53a5-4273-bba6-5fc7f6809a8c"
      },
      "execution_count": 107,
      "outputs": [
        {
          "output_type": "execute_result",
          "data": {
            "text/plain": [
              "                  permalink   name                homepage_url category_list  \\\n",
              "count                 66368  66367                       61310         63220   \n",
              "unique                66368  66102                       61191         27296   \n",
              "top     /organization/-fame  Blink  http://www.askforoffer.com      Software   \n",
              "freq                      1      4                           5          3995   \n",
              "mean                    NaN    NaN                         NaN           NaN   \n",
              "std                     NaN    NaN                         NaN           NaN   \n",
              "min                     NaN    NaN                         NaN           NaN   \n",
              "25%                     NaN    NaN                         NaN           NaN   \n",
              "50%                     NaN    NaN                         NaN           NaN   \n",
              "75%                     NaN    NaN                         NaN           NaN   \n",
              "max                     NaN    NaN                         NaN           NaN   \n",
              "\n",
              "       funding_total_usd     status country_code state_code       region  \\\n",
              "count              66368      66368        59410      57821        58338   \n",
              "unique             18896          4          137        311         1092   \n",
              "top                    -  operating          USA         CA  SF Bay Area   \n",
              "freq               12785      53034        37601      12900         8804   \n",
              "mean                 NaN        NaN          NaN        NaN          NaN   \n",
              "std                  NaN        NaN          NaN        NaN          NaN   \n",
              "min                  NaN        NaN          NaN        NaN          NaN   \n",
              "25%                  NaN        NaN          NaN        NaN          NaN   \n",
              "50%                  NaN        NaN          NaN        NaN          NaN   \n",
              "75%                  NaN        NaN          NaN        NaN          NaN   \n",
              "max                  NaN        NaN          NaN        NaN          NaN   \n",
              "\n",
              "                 city  funding_rounds  founded_at first_funding_at  \\\n",
              "count           58340    66368.000000       51147            66344   \n",
              "unique           5111             NaN        3978             4817   \n",
              "top     San Francisco             NaN  2012-01-01       2014-01-01   \n",
              "freq             3526             NaN        2730              565   \n",
              "mean              NaN        1.732522         NaN              NaN   \n",
              "std               NaN        1.360251         NaN              NaN   \n",
              "min               NaN        1.000000         NaN              NaN   \n",
              "25%               NaN        1.000000         NaN              NaN   \n",
              "50%               NaN        1.000000         NaN              NaN   \n",
              "75%               NaN        2.000000         NaN              NaN   \n",
              "max               NaN       19.000000         NaN              NaN   \n",
              "\n",
              "       last_funding_at  \n",
              "count            66368  \n",
              "unique            4518  \n",
              "top         2014-01-01  \n",
              "freq               483  \n",
              "mean               NaN  \n",
              "std                NaN  \n",
              "min                NaN  \n",
              "25%                NaN  \n",
              "50%                NaN  \n",
              "75%                NaN  \n",
              "max                NaN  "
            ],
            "text/html": [
              "\n",
              "  <div id=\"df-8af50ccb-d5c5-482e-91d9-6616269276f4\">\n",
              "    <div class=\"colab-df-container\">\n",
              "      <div>\n",
              "<style scoped>\n",
              "    .dataframe tbody tr th:only-of-type {\n",
              "        vertical-align: middle;\n",
              "    }\n",
              "\n",
              "    .dataframe tbody tr th {\n",
              "        vertical-align: top;\n",
              "    }\n",
              "\n",
              "    .dataframe thead th {\n",
              "        text-align: right;\n",
              "    }\n",
              "</style>\n",
              "<table border=\"1\" class=\"dataframe\">\n",
              "  <thead>\n",
              "    <tr style=\"text-align: right;\">\n",
              "      <th></th>\n",
              "      <th>permalink</th>\n",
              "      <th>name</th>\n",
              "      <th>homepage_url</th>\n",
              "      <th>category_list</th>\n",
              "      <th>funding_total_usd</th>\n",
              "      <th>status</th>\n",
              "      <th>country_code</th>\n",
              "      <th>state_code</th>\n",
              "      <th>region</th>\n",
              "      <th>city</th>\n",
              "      <th>funding_rounds</th>\n",
              "      <th>founded_at</th>\n",
              "      <th>first_funding_at</th>\n",
              "      <th>last_funding_at</th>\n",
              "    </tr>\n",
              "  </thead>\n",
              "  <tbody>\n",
              "    <tr>\n",
              "      <th>count</th>\n",
              "      <td>66368</td>\n",
              "      <td>66367</td>\n",
              "      <td>61310</td>\n",
              "      <td>63220</td>\n",
              "      <td>66368</td>\n",
              "      <td>66368</td>\n",
              "      <td>59410</td>\n",
              "      <td>57821</td>\n",
              "      <td>58338</td>\n",
              "      <td>58340</td>\n",
              "      <td>66368.000000</td>\n",
              "      <td>51147</td>\n",
              "      <td>66344</td>\n",
              "      <td>66368</td>\n",
              "    </tr>\n",
              "    <tr>\n",
              "      <th>unique</th>\n",
              "      <td>66368</td>\n",
              "      <td>66102</td>\n",
              "      <td>61191</td>\n",
              "      <td>27296</td>\n",
              "      <td>18896</td>\n",
              "      <td>4</td>\n",
              "      <td>137</td>\n",
              "      <td>311</td>\n",
              "      <td>1092</td>\n",
              "      <td>5111</td>\n",
              "      <td>NaN</td>\n",
              "      <td>3978</td>\n",
              "      <td>4817</td>\n",
              "      <td>4518</td>\n",
              "    </tr>\n",
              "    <tr>\n",
              "      <th>top</th>\n",
              "      <td>/organization/-fame</td>\n",
              "      <td>Blink</td>\n",
              "      <td>http://www.askforoffer.com</td>\n",
              "      <td>Software</td>\n",
              "      <td>-</td>\n",
              "      <td>operating</td>\n",
              "      <td>USA</td>\n",
              "      <td>CA</td>\n",
              "      <td>SF Bay Area</td>\n",
              "      <td>San Francisco</td>\n",
              "      <td>NaN</td>\n",
              "      <td>2012-01-01</td>\n",
              "      <td>2014-01-01</td>\n",
              "      <td>2014-01-01</td>\n",
              "    </tr>\n",
              "    <tr>\n",
              "      <th>freq</th>\n",
              "      <td>1</td>\n",
              "      <td>4</td>\n",
              "      <td>5</td>\n",
              "      <td>3995</td>\n",
              "      <td>12785</td>\n",
              "      <td>53034</td>\n",
              "      <td>37601</td>\n",
              "      <td>12900</td>\n",
              "      <td>8804</td>\n",
              "      <td>3526</td>\n",
              "      <td>NaN</td>\n",
              "      <td>2730</td>\n",
              "      <td>565</td>\n",
              "      <td>483</td>\n",
              "    </tr>\n",
              "    <tr>\n",
              "      <th>mean</th>\n",
              "      <td>NaN</td>\n",
              "      <td>NaN</td>\n",
              "      <td>NaN</td>\n",
              "      <td>NaN</td>\n",
              "      <td>NaN</td>\n",
              "      <td>NaN</td>\n",
              "      <td>NaN</td>\n",
              "      <td>NaN</td>\n",
              "      <td>NaN</td>\n",
              "      <td>NaN</td>\n",
              "      <td>1.732522</td>\n",
              "      <td>NaN</td>\n",
              "      <td>NaN</td>\n",
              "      <td>NaN</td>\n",
              "    </tr>\n",
              "    <tr>\n",
              "      <th>std</th>\n",
              "      <td>NaN</td>\n",
              "      <td>NaN</td>\n",
              "      <td>NaN</td>\n",
              "      <td>NaN</td>\n",
              "      <td>NaN</td>\n",
              "      <td>NaN</td>\n",
              "      <td>NaN</td>\n",
              "      <td>NaN</td>\n",
              "      <td>NaN</td>\n",
              "      <td>NaN</td>\n",
              "      <td>1.360251</td>\n",
              "      <td>NaN</td>\n",
              "      <td>NaN</td>\n",
              "      <td>NaN</td>\n",
              "    </tr>\n",
              "    <tr>\n",
              "      <th>min</th>\n",
              "      <td>NaN</td>\n",
              "      <td>NaN</td>\n",
              "      <td>NaN</td>\n",
              "      <td>NaN</td>\n",
              "      <td>NaN</td>\n",
              "      <td>NaN</td>\n",
              "      <td>NaN</td>\n",
              "      <td>NaN</td>\n",
              "      <td>NaN</td>\n",
              "      <td>NaN</td>\n",
              "      <td>1.000000</td>\n",
              "      <td>NaN</td>\n",
              "      <td>NaN</td>\n",
              "      <td>NaN</td>\n",
              "    </tr>\n",
              "    <tr>\n",
              "      <th>25%</th>\n",
              "      <td>NaN</td>\n",
              "      <td>NaN</td>\n",
              "      <td>NaN</td>\n",
              "      <td>NaN</td>\n",
              "      <td>NaN</td>\n",
              "      <td>NaN</td>\n",
              "      <td>NaN</td>\n",
              "      <td>NaN</td>\n",
              "      <td>NaN</td>\n",
              "      <td>NaN</td>\n",
              "      <td>1.000000</td>\n",
              "      <td>NaN</td>\n",
              "      <td>NaN</td>\n",
              "      <td>NaN</td>\n",
              "    </tr>\n",
              "    <tr>\n",
              "      <th>50%</th>\n",
              "      <td>NaN</td>\n",
              "      <td>NaN</td>\n",
              "      <td>NaN</td>\n",
              "      <td>NaN</td>\n",
              "      <td>NaN</td>\n",
              "      <td>NaN</td>\n",
              "      <td>NaN</td>\n",
              "      <td>NaN</td>\n",
              "      <td>NaN</td>\n",
              "      <td>NaN</td>\n",
              "      <td>1.000000</td>\n",
              "      <td>NaN</td>\n",
              "      <td>NaN</td>\n",
              "      <td>NaN</td>\n",
              "    </tr>\n",
              "    <tr>\n",
              "      <th>75%</th>\n",
              "      <td>NaN</td>\n",
              "      <td>NaN</td>\n",
              "      <td>NaN</td>\n",
              "      <td>NaN</td>\n",
              "      <td>NaN</td>\n",
              "      <td>NaN</td>\n",
              "      <td>NaN</td>\n",
              "      <td>NaN</td>\n",
              "      <td>NaN</td>\n",
              "      <td>NaN</td>\n",
              "      <td>2.000000</td>\n",
              "      <td>NaN</td>\n",
              "      <td>NaN</td>\n",
              "      <td>NaN</td>\n",
              "    </tr>\n",
              "    <tr>\n",
              "      <th>max</th>\n",
              "      <td>NaN</td>\n",
              "      <td>NaN</td>\n",
              "      <td>NaN</td>\n",
              "      <td>NaN</td>\n",
              "      <td>NaN</td>\n",
              "      <td>NaN</td>\n",
              "      <td>NaN</td>\n",
              "      <td>NaN</td>\n",
              "      <td>NaN</td>\n",
              "      <td>NaN</td>\n",
              "      <td>19.000000</td>\n",
              "      <td>NaN</td>\n",
              "      <td>NaN</td>\n",
              "      <td>NaN</td>\n",
              "    </tr>\n",
              "  </tbody>\n",
              "</table>\n",
              "</div>\n",
              "      <button class=\"colab-df-convert\" onclick=\"convertToInteractive('df-8af50ccb-d5c5-482e-91d9-6616269276f4')\"\n",
              "              title=\"Convert this dataframe to an interactive table.\"\n",
              "              style=\"display:none;\">\n",
              "        \n",
              "  <svg xmlns=\"http://www.w3.org/2000/svg\" height=\"24px\"viewBox=\"0 0 24 24\"\n",
              "       width=\"24px\">\n",
              "    <path d=\"M0 0h24v24H0V0z\" fill=\"none\"/>\n",
              "    <path d=\"M18.56 5.44l.94 2.06.94-2.06 2.06-.94-2.06-.94-.94-2.06-.94 2.06-2.06.94zm-11 1L8.5 8.5l.94-2.06 2.06-.94-2.06-.94L8.5 2.5l-.94 2.06-2.06.94zm10 10l.94 2.06.94-2.06 2.06-.94-2.06-.94-.94-2.06-.94 2.06-2.06.94z\"/><path d=\"M17.41 7.96l-1.37-1.37c-.4-.4-.92-.59-1.43-.59-.52 0-1.04.2-1.43.59L10.3 9.45l-7.72 7.72c-.78.78-.78 2.05 0 2.83L4 21.41c.39.39.9.59 1.41.59.51 0 1.02-.2 1.41-.59l7.78-7.78 2.81-2.81c.8-.78.8-2.07 0-2.86zM5.41 20L4 18.59l7.72-7.72 1.47 1.35L5.41 20z\"/>\n",
              "  </svg>\n",
              "      </button>\n",
              "      \n",
              "  <style>\n",
              "    .colab-df-container {\n",
              "      display:flex;\n",
              "      flex-wrap:wrap;\n",
              "      gap: 12px;\n",
              "    }\n",
              "\n",
              "    .colab-df-convert {\n",
              "      background-color: #E8F0FE;\n",
              "      border: none;\n",
              "      border-radius: 50%;\n",
              "      cursor: pointer;\n",
              "      display: none;\n",
              "      fill: #1967D2;\n",
              "      height: 32px;\n",
              "      padding: 0 0 0 0;\n",
              "      width: 32px;\n",
              "    }\n",
              "\n",
              "    .colab-df-convert:hover {\n",
              "      background-color: #E2EBFA;\n",
              "      box-shadow: 0px 1px 2px rgba(60, 64, 67, 0.3), 0px 1px 3px 1px rgba(60, 64, 67, 0.15);\n",
              "      fill: #174EA6;\n",
              "    }\n",
              "\n",
              "    [theme=dark] .colab-df-convert {\n",
              "      background-color: #3B4455;\n",
              "      fill: #D2E3FC;\n",
              "    }\n",
              "\n",
              "    [theme=dark] .colab-df-convert:hover {\n",
              "      background-color: #434B5C;\n",
              "      box-shadow: 0px 1px 3px 1px rgba(0, 0, 0, 0.15);\n",
              "      filter: drop-shadow(0px 1px 2px rgba(0, 0, 0, 0.3));\n",
              "      fill: #FFFFFF;\n",
              "    }\n",
              "  </style>\n",
              "\n",
              "      <script>\n",
              "        const buttonEl =\n",
              "          document.querySelector('#df-8af50ccb-d5c5-482e-91d9-6616269276f4 button.colab-df-convert');\n",
              "        buttonEl.style.display =\n",
              "          google.colab.kernel.accessAllowed ? 'block' : 'none';\n",
              "\n",
              "        async function convertToInteractive(key) {\n",
              "          const element = document.querySelector('#df-8af50ccb-d5c5-482e-91d9-6616269276f4');\n",
              "          const dataTable =\n",
              "            await google.colab.kernel.invokeFunction('convertToInteractive',\n",
              "                                                     [key], {});\n",
              "          if (!dataTable) return;\n",
              "\n",
              "          const docLinkHtml = 'Like what you see? Visit the ' +\n",
              "            '<a target=\"_blank\" href=https://colab.research.google.com/notebooks/data_table.ipynb>data table notebook</a>'\n",
              "            + ' to learn more about interactive tables.';\n",
              "          element.innerHTML = '';\n",
              "          dataTable['output_type'] = 'display_data';\n",
              "          await google.colab.output.renderOutput(dataTable, element);\n",
              "          const docLink = document.createElement('div');\n",
              "          docLink.innerHTML = docLinkHtml;\n",
              "          element.appendChild(docLink);\n",
              "        }\n",
              "      </script>\n",
              "    </div>\n",
              "  </div>\n",
              "  "
            ]
          },
          "metadata": {},
          "execution_count": 107
        }
      ]
    },
    {
      "cell_type": "code",
      "source": [
        "#Lets explore the total number of column and there name.\n",
        "data.columns"
      ],
      "metadata": {
        "colab": {
          "base_uri": "https://localhost:8080/"
        },
        "id": "5OiiPq8VdBkv",
        "outputId": "577f642f-8951-4bf7-829b-60d9326f1813"
      },
      "execution_count": 108,
      "outputs": [
        {
          "output_type": "execute_result",
          "data": {
            "text/plain": [
              "Index(['permalink', 'name', 'homepage_url', 'category_list',\n",
              "       'funding_total_usd', 'status', 'country_code', 'state_code', 'region',\n",
              "       'city', 'funding_rounds', 'founded_at', 'first_funding_at',\n",
              "       'last_funding_at'],\n",
              "      dtype='object')"
            ]
          },
          "metadata": {},
          "execution_count": 108
        }
      ]
    },
    {
      "cell_type": "code",
      "source": [
        "#It is exploring the total length of the name present in column.\n",
        "len(data.name.unique())"
      ],
      "metadata": {
        "colab": {
          "base_uri": "https://localhost:8080/"
        },
        "id": "2R-VjDRodd8Y",
        "outputId": "a71bce60-d337-4e76-d870-947f7433c7c6"
      },
      "execution_count": 109,
      "outputs": [
        {
          "output_type": "execute_result",
          "data": {
            "text/plain": [
              "66103"
            ]
          },
          "metadata": {},
          "execution_count": 109
        }
      ]
    },
    {
      "cell_type": "code",
      "source": [
        "#Its giving information about the status ie.this is discribing that there are 4 such status present in column.\n",
        "len(data.status.unique())"
      ],
      "metadata": {
        "colab": {
          "base_uri": "https://localhost:8080/"
        },
        "id": "ZB0fxMzvd6EJ",
        "outputId": "660c7af9-2cd5-4cdb-c269-74def5ba6553"
      },
      "execution_count": 110,
      "outputs": [
        {
          "output_type": "execute_result",
          "data": {
            "text/plain": [
              "4"
            ]
          },
          "metadata": {},
          "execution_count": 110
        }
      ]
    },
    {
      "cell_type": "markdown",
      "source": [
        "# **Data cleaning process.**\n",
        "\n",
        "\n"
      ],
      "metadata": {
        "id": "e6BKPy7LcqBn"
      }
    },
    {
      "cell_type": "markdown",
      "source": [
        "**[1] Dropping the duplicate rows:**"
      ],
      "metadata": {
        "id": "WH1Jjk0UuC89"
      }
    },
    {
      "cell_type": "markdown",
      "source": [
        "This step is certainly needed in every EDA because sometimes there would be many columns that we never use in such cases dropping is the only solution. In this case, the columns such as homepage_url,permalink doesn't make any sense to me so I just dropped for this instance."
      ],
      "metadata": {
        "id": "syLErJy_eeGA"
      }
    },
    {
      "cell_type": "code",
      "source": [
        "#here info is new variable taken for to display the new table after the dropping of irrelevant column.\n",
        "info= data.drop(['permalink','homepage_url'], axis=1)\n"
      ],
      "metadata": {
        "id": "GQKE-VVGekK5"
      },
      "execution_count": 111,
      "outputs": []
    },
    {
      "cell_type": "code",
      "source": [
        "info.head()"
      ],
      "metadata": {
        "colab": {
          "base_uri": "https://localhost:8080/",
          "height": 357
        },
        "id": "1XM9GpuBfoLy",
        "outputId": "7ae10201-2e53-43ca-cbc2-daf1ed50f284"
      },
      "execution_count": 112,
      "outputs": [
        {
          "output_type": "execute_result",
          "data": {
            "text/plain": [
              "                     name                                      category_list  \\\n",
              "0                   #fame                                              Media   \n",
              "1                :Qounter  Application Platforms|Real Time|Social Network...   \n",
              "2  (THE) ONE of THEM,Inc.                                  Apps|Games|Mobile   \n",
              "3                 0-6.com                                        Curated Web   \n",
              "4        004 Technologies                                           Software   \n",
              "\n",
              "  funding_total_usd     status country_code state_code                 region  \\\n",
              "0          10000000  operating          IND         16                 Mumbai   \n",
              "1            700000  operating          USA         DE             DE - Other   \n",
              "2           3406878  operating          NaN        NaN                    NaN   \n",
              "3           2000000  operating          CHN         22                Beijing   \n",
              "4                 -  operating          USA         IL  Springfield, Illinois   \n",
              "\n",
              "            city  funding_rounds  founded_at first_funding_at last_funding_at  \n",
              "0         Mumbai               1         NaN       2015-01-05      2015-01-05  \n",
              "1  Delaware City               2  2014-09-04       2014-03-01      2014-10-14  \n",
              "2            NaN               1         NaN       2014-01-30      2014-01-30  \n",
              "3        Beijing               1  2007-01-01       2008-03-19      2008-03-19  \n",
              "4      Champaign               1  2010-01-01       2014-07-24      2014-07-24  "
            ],
            "text/html": [
              "\n",
              "  <div id=\"df-a559965d-c545-4f38-bbdd-6cd0ba77e23d\">\n",
              "    <div class=\"colab-df-container\">\n",
              "      <div>\n",
              "<style scoped>\n",
              "    .dataframe tbody tr th:only-of-type {\n",
              "        vertical-align: middle;\n",
              "    }\n",
              "\n",
              "    .dataframe tbody tr th {\n",
              "        vertical-align: top;\n",
              "    }\n",
              "\n",
              "    .dataframe thead th {\n",
              "        text-align: right;\n",
              "    }\n",
              "</style>\n",
              "<table border=\"1\" class=\"dataframe\">\n",
              "  <thead>\n",
              "    <tr style=\"text-align: right;\">\n",
              "      <th></th>\n",
              "      <th>name</th>\n",
              "      <th>category_list</th>\n",
              "      <th>funding_total_usd</th>\n",
              "      <th>status</th>\n",
              "      <th>country_code</th>\n",
              "      <th>state_code</th>\n",
              "      <th>region</th>\n",
              "      <th>city</th>\n",
              "      <th>funding_rounds</th>\n",
              "      <th>founded_at</th>\n",
              "      <th>first_funding_at</th>\n",
              "      <th>last_funding_at</th>\n",
              "    </tr>\n",
              "  </thead>\n",
              "  <tbody>\n",
              "    <tr>\n",
              "      <th>0</th>\n",
              "      <td>#fame</td>\n",
              "      <td>Media</td>\n",
              "      <td>10000000</td>\n",
              "      <td>operating</td>\n",
              "      <td>IND</td>\n",
              "      <td>16</td>\n",
              "      <td>Mumbai</td>\n",
              "      <td>Mumbai</td>\n",
              "      <td>1</td>\n",
              "      <td>NaN</td>\n",
              "      <td>2015-01-05</td>\n",
              "      <td>2015-01-05</td>\n",
              "    </tr>\n",
              "    <tr>\n",
              "      <th>1</th>\n",
              "      <td>:Qounter</td>\n",
              "      <td>Application Platforms|Real Time|Social Network...</td>\n",
              "      <td>700000</td>\n",
              "      <td>operating</td>\n",
              "      <td>USA</td>\n",
              "      <td>DE</td>\n",
              "      <td>DE - Other</td>\n",
              "      <td>Delaware City</td>\n",
              "      <td>2</td>\n",
              "      <td>2014-09-04</td>\n",
              "      <td>2014-03-01</td>\n",
              "      <td>2014-10-14</td>\n",
              "    </tr>\n",
              "    <tr>\n",
              "      <th>2</th>\n",
              "      <td>(THE) ONE of THEM,Inc.</td>\n",
              "      <td>Apps|Games|Mobile</td>\n",
              "      <td>3406878</td>\n",
              "      <td>operating</td>\n",
              "      <td>NaN</td>\n",
              "      <td>NaN</td>\n",
              "      <td>NaN</td>\n",
              "      <td>NaN</td>\n",
              "      <td>1</td>\n",
              "      <td>NaN</td>\n",
              "      <td>2014-01-30</td>\n",
              "      <td>2014-01-30</td>\n",
              "    </tr>\n",
              "    <tr>\n",
              "      <th>3</th>\n",
              "      <td>0-6.com</td>\n",
              "      <td>Curated Web</td>\n",
              "      <td>2000000</td>\n",
              "      <td>operating</td>\n",
              "      <td>CHN</td>\n",
              "      <td>22</td>\n",
              "      <td>Beijing</td>\n",
              "      <td>Beijing</td>\n",
              "      <td>1</td>\n",
              "      <td>2007-01-01</td>\n",
              "      <td>2008-03-19</td>\n",
              "      <td>2008-03-19</td>\n",
              "    </tr>\n",
              "    <tr>\n",
              "      <th>4</th>\n",
              "      <td>004 Technologies</td>\n",
              "      <td>Software</td>\n",
              "      <td>-</td>\n",
              "      <td>operating</td>\n",
              "      <td>USA</td>\n",
              "      <td>IL</td>\n",
              "      <td>Springfield, Illinois</td>\n",
              "      <td>Champaign</td>\n",
              "      <td>1</td>\n",
              "      <td>2010-01-01</td>\n",
              "      <td>2014-07-24</td>\n",
              "      <td>2014-07-24</td>\n",
              "    </tr>\n",
              "  </tbody>\n",
              "</table>\n",
              "</div>\n",
              "      <button class=\"colab-df-convert\" onclick=\"convertToInteractive('df-a559965d-c545-4f38-bbdd-6cd0ba77e23d')\"\n",
              "              title=\"Convert this dataframe to an interactive table.\"\n",
              "              style=\"display:none;\">\n",
              "        \n",
              "  <svg xmlns=\"http://www.w3.org/2000/svg\" height=\"24px\"viewBox=\"0 0 24 24\"\n",
              "       width=\"24px\">\n",
              "    <path d=\"M0 0h24v24H0V0z\" fill=\"none\"/>\n",
              "    <path d=\"M18.56 5.44l.94 2.06.94-2.06 2.06-.94-2.06-.94-.94-2.06-.94 2.06-2.06.94zm-11 1L8.5 8.5l.94-2.06 2.06-.94-2.06-.94L8.5 2.5l-.94 2.06-2.06.94zm10 10l.94 2.06.94-2.06 2.06-.94-2.06-.94-.94-2.06-.94 2.06-2.06.94z\"/><path d=\"M17.41 7.96l-1.37-1.37c-.4-.4-.92-.59-1.43-.59-.52 0-1.04.2-1.43.59L10.3 9.45l-7.72 7.72c-.78.78-.78 2.05 0 2.83L4 21.41c.39.39.9.59 1.41.59.51 0 1.02-.2 1.41-.59l7.78-7.78 2.81-2.81c.8-.78.8-2.07 0-2.86zM5.41 20L4 18.59l7.72-7.72 1.47 1.35L5.41 20z\"/>\n",
              "  </svg>\n",
              "      </button>\n",
              "      \n",
              "  <style>\n",
              "    .colab-df-container {\n",
              "      display:flex;\n",
              "      flex-wrap:wrap;\n",
              "      gap: 12px;\n",
              "    }\n",
              "\n",
              "    .colab-df-convert {\n",
              "      background-color: #E8F0FE;\n",
              "      border: none;\n",
              "      border-radius: 50%;\n",
              "      cursor: pointer;\n",
              "      display: none;\n",
              "      fill: #1967D2;\n",
              "      height: 32px;\n",
              "      padding: 0 0 0 0;\n",
              "      width: 32px;\n",
              "    }\n",
              "\n",
              "    .colab-df-convert:hover {\n",
              "      background-color: #E2EBFA;\n",
              "      box-shadow: 0px 1px 2px rgba(60, 64, 67, 0.3), 0px 1px 3px 1px rgba(60, 64, 67, 0.15);\n",
              "      fill: #174EA6;\n",
              "    }\n",
              "\n",
              "    [theme=dark] .colab-df-convert {\n",
              "      background-color: #3B4455;\n",
              "      fill: #D2E3FC;\n",
              "    }\n",
              "\n",
              "    [theme=dark] .colab-df-convert:hover {\n",
              "      background-color: #434B5C;\n",
              "      box-shadow: 0px 1px 3px 1px rgba(0, 0, 0, 0.15);\n",
              "      filter: drop-shadow(0px 1px 2px rgba(0, 0, 0, 0.3));\n",
              "      fill: #FFFFFF;\n",
              "    }\n",
              "  </style>\n",
              "\n",
              "      <script>\n",
              "        const buttonEl =\n",
              "          document.querySelector('#df-a559965d-c545-4f38-bbdd-6cd0ba77e23d button.colab-df-convert');\n",
              "        buttonEl.style.display =\n",
              "          google.colab.kernel.accessAllowed ? 'block' : 'none';\n",
              "\n",
              "        async function convertToInteractive(key) {\n",
              "          const element = document.querySelector('#df-a559965d-c545-4f38-bbdd-6cd0ba77e23d');\n",
              "          const dataTable =\n",
              "            await google.colab.kernel.invokeFunction('convertToInteractive',\n",
              "                                                     [key], {});\n",
              "          if (!dataTable) return;\n",
              "\n",
              "          const docLinkHtml = 'Like what you see? Visit the ' +\n",
              "            '<a target=\"_blank\" href=https://colab.research.google.com/notebooks/data_table.ipynb>data table notebook</a>'\n",
              "            + ' to learn more about interactive tables.';\n",
              "          element.innerHTML = '';\n",
              "          dataTable['output_type'] = 'display_data';\n",
              "          await google.colab.output.renderOutput(dataTable, element);\n",
              "          const docLink = document.createElement('div');\n",
              "          docLink.innerHTML = docLinkHtml;\n",
              "          element.appendChild(docLink);\n",
              "        }\n",
              "      </script>\n",
              "    </div>\n",
              "  </div>\n",
              "  "
            ]
          },
          "metadata": {},
          "execution_count": 112
        }
      ]
    },
    {
      "cell_type": "code",
      "source": [
        "#Lets count the number of rows after dropping the duplicates.\n",
        "info.count()"
      ],
      "metadata": {
        "colab": {
          "base_uri": "https://localhost:8080/"
        },
        "id": "awreTLhbjbqw",
        "outputId": "a95fb077-93c8-4994-8bb0-451c83567634"
      },
      "execution_count": 113,
      "outputs": [
        {
          "output_type": "execute_result",
          "data": {
            "text/plain": [
              "name                 66367\n",
              "category_list        63220\n",
              "funding_total_usd    66368\n",
              "status               66368\n",
              "country_code         59410\n",
              "state_code           57821\n",
              "region               58338\n",
              "city                 58340\n",
              "funding_rounds       66368\n",
              "founded_at           51147\n",
              "first_funding_at     66344\n",
              "last_funding_at      66368\n",
              "dtype: int64"
            ]
          },
          "metadata": {},
          "execution_count": 113
        }
      ]
    },
    {
      "cell_type": "code",
      "source": [
        "info.shape"
      ],
      "metadata": {
        "colab": {
          "base_uri": "https://localhost:8080/"
        },
        "id": "QdPRLV1wjv3R",
        "outputId": "9ec7c788-8282-4a00-e32c-893f4fa08924"
      },
      "execution_count": 114,
      "outputs": [
        {
          "output_type": "execute_result",
          "data": {
            "text/plain": [
              "(66368, 12)"
            ]
          },
          "metadata": {},
          "execution_count": 114
        }
      ]
    },
    {
      "cell_type": "markdown",
      "source": [
        "**[2] Checking the duplicate rows:**"
      ],
      "metadata": {
        "id": "riiyFp36tV2l"
      }
    },
    {
      "cell_type": "markdown",
      "source": [
        "This is often a handy thing to do because a huge data set as in this case contains more than 10, 000 rows often have some duplicate data which might be disturbing, so here I remove all the duplicate value from the data-set."
      ],
      "metadata": {
        "id": "_OQMeGyZjA9g"
      }
    },
    {
      "cell_type": "code",
      "source": [
        "#Lets drop duplicate rows from the data frame and there are (1,12) duplicate rows in data frame.\n",
        "duplicate_rows_info = info[info.duplicated()]\n",
        "print(\"number of duplicate rows: \", duplicate_rows_info.shape)"
      ],
      "metadata": {
        "colab": {
          "base_uri": "https://localhost:8080/"
        },
        "id": "mRRzt68jifwf",
        "outputId": "1b3d2e50-222e-47fb-e9f3-4faeac4b53fa"
      },
      "execution_count": 115,
      "outputs": [
        {
          "output_type": "stream",
          "name": "stdout",
          "text": [
            "number of duplicate rows:  (1, 12)\n"
          ]
        }
      ]
    },
    {
      "cell_type": "markdown",
      "source": [
        "**[3] Checking total number of null values in column:**"
      ],
      "metadata": {
        "id": "b9S9mG3-toXs"
      }
    },
    {
      "cell_type": "code",
      "source": [
        "#This are the result of the total null value present before replacing them.\n",
        "#Lets explore the total null calues in the data frame.\n",
        "print(info.isnull().sum())"
      ],
      "metadata": {
        "colab": {
          "base_uri": "https://localhost:8080/"
        },
        "id": "IlanJhXXnI26",
        "outputId": "854956f6-d565-4983-e12a-0bd6a292473e"
      },
      "execution_count": 116,
      "outputs": [
        {
          "output_type": "stream",
          "name": "stdout",
          "text": [
            "name                     1\n",
            "category_list         3148\n",
            "funding_total_usd        0\n",
            "status                   0\n",
            "country_code          6958\n",
            "state_code            8547\n",
            "region                8030\n",
            "city                  8028\n",
            "funding_rounds           0\n",
            "founded_at           15221\n",
            "first_funding_at        24\n",
            "last_funding_at          0\n",
            "dtype: int64\n"
          ]
        }
      ]
    },
    {
      "cell_type": "markdown",
      "source": [
        "**[4] Replacing null values in data frame.**\n",
        "\n"
      ],
      "metadata": {
        "id": "zWTyIYWEuRje"
      }
    },
    {
      "cell_type": "code",
      "source": [
        "#Here in this step I replace null values of country_code,region,founded_at with no code,no region,no date respectively.\n",
        "info[\"country_code\"].fillna(\"No code\", inplace = True)\n",
        "info[\"region\"].fillna(\"No region \", inplace = True)\n",
        "info[\"founded_at\"].fillna(\"No date\", inplace = True)\n",
        "info[\"state_code\"].fillna(\"No code \", inplace = True)\n",
        "#Here in this step I replace null values in city column with no city. \n",
        "info[\"city\"].fillna(\"No city \", inplace = True)\n",
        "#Here in this step I replace null values in name column with no name. \n",
        "info[\"name\"].fillna(\"No name\", inplace = True)\n",
        "#Here in this step I replace null values in category_list column with no category_list. \n",
        "info[\"category_list\"].fillna(\"No category_list\", inplace = True)\n",
        "#Here in this step I replace first_funded_at date with no date name.\n",
        "info[\"first_funding_at\"].fillna(\"No first_funding_at \", inplace = True)\n",
        "info.head()\n",
        "\n",
        "\n"
      ],
      "metadata": {
        "colab": {
          "base_uri": "https://localhost:8080/",
          "height": 357
        },
        "id": "vuVB83qg2CKh",
        "outputId": "2b621b64-51d5-4d8b-95db-b611d5bbd98d"
      },
      "execution_count": 117,
      "outputs": [
        {
          "output_type": "execute_result",
          "data": {
            "text/plain": [
              "                     name                                      category_list  \\\n",
              "0                   #fame                                              Media   \n",
              "1                :Qounter  Application Platforms|Real Time|Social Network...   \n",
              "2  (THE) ONE of THEM,Inc.                                  Apps|Games|Mobile   \n",
              "3                 0-6.com                                        Curated Web   \n",
              "4        004 Technologies                                           Software   \n",
              "\n",
              "  funding_total_usd     status country_code state_code                 region  \\\n",
              "0          10000000  operating          IND         16                 Mumbai   \n",
              "1            700000  operating          USA         DE             DE - Other   \n",
              "2           3406878  operating      No code   No code              No region    \n",
              "3           2000000  operating          CHN         22                Beijing   \n",
              "4                 -  operating          USA         IL  Springfield, Illinois   \n",
              "\n",
              "            city  funding_rounds  founded_at first_funding_at last_funding_at  \n",
              "0         Mumbai               1     No date       2015-01-05      2015-01-05  \n",
              "1  Delaware City               2  2014-09-04       2014-03-01      2014-10-14  \n",
              "2       No city                1     No date       2014-01-30      2014-01-30  \n",
              "3        Beijing               1  2007-01-01       2008-03-19      2008-03-19  \n",
              "4      Champaign               1  2010-01-01       2014-07-24      2014-07-24  "
            ],
            "text/html": [
              "\n",
              "  <div id=\"df-a191f684-f9f0-475a-9cb3-09caccab6790\">\n",
              "    <div class=\"colab-df-container\">\n",
              "      <div>\n",
              "<style scoped>\n",
              "    .dataframe tbody tr th:only-of-type {\n",
              "        vertical-align: middle;\n",
              "    }\n",
              "\n",
              "    .dataframe tbody tr th {\n",
              "        vertical-align: top;\n",
              "    }\n",
              "\n",
              "    .dataframe thead th {\n",
              "        text-align: right;\n",
              "    }\n",
              "</style>\n",
              "<table border=\"1\" class=\"dataframe\">\n",
              "  <thead>\n",
              "    <tr style=\"text-align: right;\">\n",
              "      <th></th>\n",
              "      <th>name</th>\n",
              "      <th>category_list</th>\n",
              "      <th>funding_total_usd</th>\n",
              "      <th>status</th>\n",
              "      <th>country_code</th>\n",
              "      <th>state_code</th>\n",
              "      <th>region</th>\n",
              "      <th>city</th>\n",
              "      <th>funding_rounds</th>\n",
              "      <th>founded_at</th>\n",
              "      <th>first_funding_at</th>\n",
              "      <th>last_funding_at</th>\n",
              "    </tr>\n",
              "  </thead>\n",
              "  <tbody>\n",
              "    <tr>\n",
              "      <th>0</th>\n",
              "      <td>#fame</td>\n",
              "      <td>Media</td>\n",
              "      <td>10000000</td>\n",
              "      <td>operating</td>\n",
              "      <td>IND</td>\n",
              "      <td>16</td>\n",
              "      <td>Mumbai</td>\n",
              "      <td>Mumbai</td>\n",
              "      <td>1</td>\n",
              "      <td>No date</td>\n",
              "      <td>2015-01-05</td>\n",
              "      <td>2015-01-05</td>\n",
              "    </tr>\n",
              "    <tr>\n",
              "      <th>1</th>\n",
              "      <td>:Qounter</td>\n",
              "      <td>Application Platforms|Real Time|Social Network...</td>\n",
              "      <td>700000</td>\n",
              "      <td>operating</td>\n",
              "      <td>USA</td>\n",
              "      <td>DE</td>\n",
              "      <td>DE - Other</td>\n",
              "      <td>Delaware City</td>\n",
              "      <td>2</td>\n",
              "      <td>2014-09-04</td>\n",
              "      <td>2014-03-01</td>\n",
              "      <td>2014-10-14</td>\n",
              "    </tr>\n",
              "    <tr>\n",
              "      <th>2</th>\n",
              "      <td>(THE) ONE of THEM,Inc.</td>\n",
              "      <td>Apps|Games|Mobile</td>\n",
              "      <td>3406878</td>\n",
              "      <td>operating</td>\n",
              "      <td>No code</td>\n",
              "      <td>No code</td>\n",
              "      <td>No region</td>\n",
              "      <td>No city</td>\n",
              "      <td>1</td>\n",
              "      <td>No date</td>\n",
              "      <td>2014-01-30</td>\n",
              "      <td>2014-01-30</td>\n",
              "    </tr>\n",
              "    <tr>\n",
              "      <th>3</th>\n",
              "      <td>0-6.com</td>\n",
              "      <td>Curated Web</td>\n",
              "      <td>2000000</td>\n",
              "      <td>operating</td>\n",
              "      <td>CHN</td>\n",
              "      <td>22</td>\n",
              "      <td>Beijing</td>\n",
              "      <td>Beijing</td>\n",
              "      <td>1</td>\n",
              "      <td>2007-01-01</td>\n",
              "      <td>2008-03-19</td>\n",
              "      <td>2008-03-19</td>\n",
              "    </tr>\n",
              "    <tr>\n",
              "      <th>4</th>\n",
              "      <td>004 Technologies</td>\n",
              "      <td>Software</td>\n",
              "      <td>-</td>\n",
              "      <td>operating</td>\n",
              "      <td>USA</td>\n",
              "      <td>IL</td>\n",
              "      <td>Springfield, Illinois</td>\n",
              "      <td>Champaign</td>\n",
              "      <td>1</td>\n",
              "      <td>2010-01-01</td>\n",
              "      <td>2014-07-24</td>\n",
              "      <td>2014-07-24</td>\n",
              "    </tr>\n",
              "  </tbody>\n",
              "</table>\n",
              "</div>\n",
              "      <button class=\"colab-df-convert\" onclick=\"convertToInteractive('df-a191f684-f9f0-475a-9cb3-09caccab6790')\"\n",
              "              title=\"Convert this dataframe to an interactive table.\"\n",
              "              style=\"display:none;\">\n",
              "        \n",
              "  <svg xmlns=\"http://www.w3.org/2000/svg\" height=\"24px\"viewBox=\"0 0 24 24\"\n",
              "       width=\"24px\">\n",
              "    <path d=\"M0 0h24v24H0V0z\" fill=\"none\"/>\n",
              "    <path d=\"M18.56 5.44l.94 2.06.94-2.06 2.06-.94-2.06-.94-.94-2.06-.94 2.06-2.06.94zm-11 1L8.5 8.5l.94-2.06 2.06-.94-2.06-.94L8.5 2.5l-.94 2.06-2.06.94zm10 10l.94 2.06.94-2.06 2.06-.94-2.06-.94-.94-2.06-.94 2.06-2.06.94z\"/><path d=\"M17.41 7.96l-1.37-1.37c-.4-.4-.92-.59-1.43-.59-.52 0-1.04.2-1.43.59L10.3 9.45l-7.72 7.72c-.78.78-.78 2.05 0 2.83L4 21.41c.39.39.9.59 1.41.59.51 0 1.02-.2 1.41-.59l7.78-7.78 2.81-2.81c.8-.78.8-2.07 0-2.86zM5.41 20L4 18.59l7.72-7.72 1.47 1.35L5.41 20z\"/>\n",
              "  </svg>\n",
              "      </button>\n",
              "      \n",
              "  <style>\n",
              "    .colab-df-container {\n",
              "      display:flex;\n",
              "      flex-wrap:wrap;\n",
              "      gap: 12px;\n",
              "    }\n",
              "\n",
              "    .colab-df-convert {\n",
              "      background-color: #E8F0FE;\n",
              "      border: none;\n",
              "      border-radius: 50%;\n",
              "      cursor: pointer;\n",
              "      display: none;\n",
              "      fill: #1967D2;\n",
              "      height: 32px;\n",
              "      padding: 0 0 0 0;\n",
              "      width: 32px;\n",
              "    }\n",
              "\n",
              "    .colab-df-convert:hover {\n",
              "      background-color: #E2EBFA;\n",
              "      box-shadow: 0px 1px 2px rgba(60, 64, 67, 0.3), 0px 1px 3px 1px rgba(60, 64, 67, 0.15);\n",
              "      fill: #174EA6;\n",
              "    }\n",
              "\n",
              "    [theme=dark] .colab-df-convert {\n",
              "      background-color: #3B4455;\n",
              "      fill: #D2E3FC;\n",
              "    }\n",
              "\n",
              "    [theme=dark] .colab-df-convert:hover {\n",
              "      background-color: #434B5C;\n",
              "      box-shadow: 0px 1px 3px 1px rgba(0, 0, 0, 0.15);\n",
              "      filter: drop-shadow(0px 1px 2px rgba(0, 0, 0, 0.3));\n",
              "      fill: #FFFFFF;\n",
              "    }\n",
              "  </style>\n",
              "\n",
              "      <script>\n",
              "        const buttonEl =\n",
              "          document.querySelector('#df-a191f684-f9f0-475a-9cb3-09caccab6790 button.colab-df-convert');\n",
              "        buttonEl.style.display =\n",
              "          google.colab.kernel.accessAllowed ? 'block' : 'none';\n",
              "\n",
              "        async function convertToInteractive(key) {\n",
              "          const element = document.querySelector('#df-a191f684-f9f0-475a-9cb3-09caccab6790');\n",
              "          const dataTable =\n",
              "            await google.colab.kernel.invokeFunction('convertToInteractive',\n",
              "                                                     [key], {});\n",
              "          if (!dataTable) return;\n",
              "\n",
              "          const docLinkHtml = 'Like what you see? Visit the ' +\n",
              "            '<a target=\"_blank\" href=https://colab.research.google.com/notebooks/data_table.ipynb>data table notebook</a>'\n",
              "            + ' to learn more about interactive tables.';\n",
              "          element.innerHTML = '';\n",
              "          dataTable['output_type'] = 'display_data';\n",
              "          await google.colab.output.renderOutput(dataTable, element);\n",
              "          const docLink = document.createElement('div');\n",
              "          docLink.innerHTML = docLinkHtml;\n",
              "          element.appendChild(docLink);\n",
              "        }\n",
              "      </script>\n",
              "    </div>\n",
              "  </div>\n",
              "  "
            ]
          },
          "metadata": {},
          "execution_count": 117
        }
      ]
    },
    {
      "cell_type": "code",
      "source": [
        "#This are the result of the total null value present before replacing them.\n",
        "#The above all replacement steps are complted and now there is such missing values are there in data frame.\n",
        "print(info.isnull().sum())"
      ],
      "metadata": {
        "colab": {
          "base_uri": "https://localhost:8080/"
        },
        "id": "66_QBxdR2Of5",
        "outputId": "e321b4d2-96bc-4f7c-8795-85ec2359e4c5"
      },
      "execution_count": 118,
      "outputs": [
        {
          "output_type": "stream",
          "name": "stdout",
          "text": [
            "name                 0\n",
            "category_list        0\n",
            "funding_total_usd    0\n",
            "status               0\n",
            "country_code         0\n",
            "state_code           0\n",
            "region               0\n",
            "city                 0\n",
            "funding_rounds       0\n",
            "founded_at           0\n",
            "first_funding_at     0\n",
            "last_funding_at      0\n",
            "dtype: int64\n"
          ]
        }
      ]
    },
    {
      "cell_type": "code",
      "source": [
        "#Converting Funding _tota_usd Column into Float dataType:\n",
        "info['funding_total_usd'].value_counts()"
      ],
      "metadata": {
        "colab": {
          "base_uri": "https://localhost:8080/"
        },
        "id": "JTIV5eHm5E5C",
        "outputId": "b71f5e4d-55d4-429a-a3b5-b17a9c407467"
      },
      "execution_count": 137,
      "outputs": [
        {
          "output_type": "execute_result",
          "data": {
            "text/plain": [
              "-           12785\n",
              "1000000      1147\n",
              "100000        983\n",
              "500000        979\n",
              "2000000       820\n",
              "            ...  \n",
              "41370920        1\n",
              "10548260        1\n",
              "146071          1\n",
              "1917766         1\n",
              "14851           1\n",
              "Name: funding_total_usd, Length: 18896, dtype: int64"
            ]
          },
          "metadata": {},
          "execution_count": 137
        }
      ]
    },
    {
      "cell_type": "markdown",
      "source": [
        "# **Detecting Outliers**"
      ],
      "metadata": {
        "id": "Hj6TOIjQ5SRS"
      }
    },
    {
      "cell_type": "markdown",
      "source": [
        "**[6] Data Cleansing Techniques To Get Rid Of Unwanted Data and Outliers.**"
      ],
      "metadata": {
        "id": "AsMsTYmN5w-r"
      }
    },
    {
      "cell_type": "markdown",
      "source": [
        "An outlier is a point or set of points that are different from other points. Sometimes they can be very high or very low. It's often a good idea to detect and remove the outliers. Because outliers are one of the primary reasons for resulting in a less accurate model. Hence it's a good idea to remove them. The outlier detection and removing that I am going to perform is called IQR score technique. Often outliers can be seen with visualizations using a box plot. Shown below are the box plot of MSRP, funding_total_usd,funding rounds Here in all the plots, you can find some points are outside the box they are none other than outliers\n",
        "\n"
      ],
      "metadata": {
        "id": "7xer5CT96Csk"
      }
    },
    {
      "cell_type": "markdown",
      "source": [
        "Outliers can be detected using **visualization, implementing mathematical formulas on the dataset, or using the statistical approach**. All of these are discussed below. "
      ],
      "metadata": {
        "id": "ngntjxfQBKzH"
      }
    },
    {
      "cell_type": "markdown",
      "source": [
        "# **1. Visualization**"
      ],
      "metadata": {
        "id": "-3CYqzlTCagF"
      }
    },
    {
      "cell_type": "markdown",
      "source": [
        "This is one of the method to detect the outlies in dataset.\n",
        "We can use \n",
        "**[1] boxplot**\n",
        "**[2] scatterplot**\n",
        "**[3] z-score**\n",
        "**[4] IQR (Inter Quartile Range)**."
      ],
      "metadata": {
        "id": "W2Q2oxJa9fSe"
      }
    },
    {
      "cell_type": "markdown",
      "source": [
        "**[1] Boxplot**"
      ],
      "metadata": {
        "id": "2MRwSxnUHQya"
      }
    },
    {
      "cell_type": "markdown",
      "source": [
        "It captures the summary of the data effectively and efficiently with only a simple box and whiskers. Boxplot summarizes sample data using 25th, 50th, and 75th percentiles."
      ],
      "metadata": {
        "id": "P1lrfYGm1OEA"
      }
    },
    {
      "cell_type": "code",
      "source": [
        "#In the below box plot the some points are outside the box they are none other than outliers.\n",
        "sns.boxplot(x=info['funding_total_usd'])"
      ],
      "metadata": {
        "colab": {
          "base_uri": "https://localhost:8080/",
          "height": 301
        },
        "id": "uP73B35_6WVd",
        "outputId": "6aea5dea-23b7-49cf-eac9-c43c7a8d4124"
      },
      "execution_count": 69,
      "outputs": [
        {
          "output_type": "execute_result",
          "data": {
            "text/plain": [
              "<matplotlib.axes._subplots.AxesSubplot at 0x7f6d81144070>"
            ]
          },
          "metadata": {},
          "execution_count": 69
        },
        {
          "output_type": "display_data",
          "data": {
            "text/plain": [
              "<Figure size 432x288 with 1 Axes>"
            ],
            "image/png": "[encoded data removed]"
          },
          "metadata": {
            "image/png": {
              "width": 349,
              "height": 267
            }
          }
        }
      ]
    },
    {
      "cell_type": "code",
      "source": [
        "#Lets check outliers present the founding_round columns\n",
        "sns.boxplot(x=info['funding_rounds'])"
      ],
      "metadata": {
        "colab": {
          "base_uri": "https://localhost:8080/",
          "height": 301
        },
        "id": "ol2nhN20-T6B",
        "outputId": "3498ebce-bed1-4f16-ab94-0efeda140970"
      },
      "execution_count": 70,
      "outputs": [
        {
          "output_type": "execute_result",
          "data": {
            "text/plain": [
              "<matplotlib.axes._subplots.AxesSubplot at 0x7f6d7fe0be20>"
            ]
          },
          "metadata": {},
          "execution_count": 70
        },
        {
          "output_type": "display_data",
          "data": {
            "text/plain": [
              "<Figure size 432x288 with 1 Axes>"
            ],
            "image/png": "[encoded data removed]"
          },
          "metadata": {
            "image/png": {
              "width": 349,
              "height": 267
            }
          }
        }
      ]
    },
    {
      "cell_type": "markdown",
      "source": [
        "Here I plotted box of fundering_rounds and funding_total_used because in this two columns there is numerical values and all the other columns contains catagorical information so we cant find the outliers for them."
      ],
      "metadata": {
        "id": "Vbb7J68iGs1L"
      }
    },
    {
      "cell_type": "markdown",
      "source": [
        "**[2] scatterplot**"
      ],
      "metadata": {
        "id": "zNcvK3dF0a4Z"
      }
    },
    {
      "cell_type": "code",
      "source": [],
      "metadata": {
        "id": "QH4uoYhA0htP"
      },
      "execution_count": null,
      "outputs": []
    },
    {
      "cell_type": "markdown",
      "source": [
        "**[7] Removing outliers from funding_rounds and funding_total_used:**"
      ],
      "metadata": {
        "id": "XSfeSwAWHcMJ"
      }
    },
    {
      "cell_type": "code",
      "source": [
        "#for removing outlier we are using following method and that is represented as follow\n",
        "Q1 = info.quantile(0.25)\n",
        "Q3 = info.quantile(0.75)\n",
        "IQR = Q3 - Q1\n",
        "print(IQR)\n"
      ],
      "metadata": {
        "colab": {
          "base_uri": "https://localhost:8080/"
        },
        "id": "e407sBujHqDR",
        "outputId": "2814e293-c231-4ac7-aa88-c8b41290d0ed"
      },
      "execution_count": 71,
      "outputs": [
        {
          "output_type": "stream",
          "name": "stdout",
          "text": [
            "funding_total_usd    9664376.5\n",
            "funding_rounds             1.0\n",
            "dtype: float64\n"
          ]
        }
      ]
    },
    {
      "cell_type": "code",
      "source": [
        "info = info[~((info < (Q1 - 1.5 * IQR)) |(info > (Q3 + 1.5 * IQR))).any(axis=1)]\n",
        "info.shape"
      ],
      "metadata": {
        "colab": {
          "base_uri": "https://localhost:8080/"
        },
        "id": "a86v8wg8H97B",
        "outputId": "77b00506-706c-4e0a-bd01-02a4b3875bc3"
      },
      "execution_count": 72,
      "outputs": [
        {
          "output_type": "execute_result",
          "data": {
            "text/plain": [
              "(55956, 12)"
            ]
          },
          "metadata": {},
          "execution_count": 72
        }
      ]
    },
    {
      "cell_type": "code",
      "source": [
        "#Our 1st objective is to clean the data.\n",
        "#since only the price column is in out control, we'll try detecting and tacling outliers from the column.\n",
        "ny.describe()"
      ],
      "metadata": {
        "colab": {
          "base_uri": "https://localhost:8080/",
          "height": 300
        },
        "id": "ukYOMC6SLEqr",
        "outputId": "abc898db-743d-4b3e-f87f-808acfe304ce"
      },
      "execution_count": 76,
      "outputs": [
        {
          "output_type": "execute_result",
          "data": {
            "text/plain": [
              "       funding_total_usd\n",
              "count       4.323800e+04\n",
              "mean        3.510780e+06\n",
              "std         5.139110e+06\n",
              "min         1.000000e+00\n",
              "25%         2.150000e+05\n",
              "50%         1.101839e+06\n",
              "75%         4.550000e+06\n",
              "max         2.448000e+07"
            ],
            "text/html": [
              "\n",
              "  <div id=\"df-1acac6f2-0bd8-4619-9839-907bb961b546\">\n",
              "    <div class=\"colab-df-container\">\n",
              "      <div>\n",
              "<style scoped>\n",
              "    .dataframe tbody tr th:only-of-type {\n",
              "        vertical-align: middle;\n",
              "    }\n",
              "\n",
              "    .dataframe tbody tr th {\n",
              "        vertical-align: top;\n",
              "    }\n",
              "\n",
              "    .dataframe thead th {\n",
              "        text-align: right;\n",
              "    }\n",
              "</style>\n",
              "<table border=\"1\" class=\"dataframe\">\n",
              "  <thead>\n",
              "    <tr style=\"text-align: right;\">\n",
              "      <th></th>\n",
              "      <th>funding_total_usd</th>\n",
              "    </tr>\n",
              "  </thead>\n",
              "  <tbody>\n",
              "    <tr>\n",
              "      <th>count</th>\n",
              "      <td>4.323800e+04</td>\n",
              "    </tr>\n",
              "    <tr>\n",
              "      <th>mean</th>\n",
              "      <td>3.510780e+06</td>\n",
              "    </tr>\n",
              "    <tr>\n",
              "      <th>std</th>\n",
              "      <td>5.139110e+06</td>\n",
              "    </tr>\n",
              "    <tr>\n",
              "      <th>min</th>\n",
              "      <td>1.000000e+00</td>\n",
              "    </tr>\n",
              "    <tr>\n",
              "      <th>25%</th>\n",
              "      <td>2.150000e+05</td>\n",
              "    </tr>\n",
              "    <tr>\n",
              "      <th>50%</th>\n",
              "      <td>1.101839e+06</td>\n",
              "    </tr>\n",
              "    <tr>\n",
              "      <th>75%</th>\n",
              "      <td>4.550000e+06</td>\n",
              "    </tr>\n",
              "    <tr>\n",
              "      <th>max</th>\n",
              "      <td>2.448000e+07</td>\n",
              "    </tr>\n",
              "  </tbody>\n",
              "</table>\n",
              "</div>\n",
              "      <button class=\"colab-df-convert\" onclick=\"convertToInteractive('df-1acac6f2-0bd8-4619-9839-907bb961b546')\"\n",
              "              title=\"Convert this dataframe to an interactive table.\"\n",
              "              style=\"display:none;\">\n",
              "        \n",
              "  <svg xmlns=\"http://www.w3.org/2000/svg\" height=\"24px\"viewBox=\"0 0 24 24\"\n",
              "       width=\"24px\">\n",
              "    <path d=\"M0 0h24v24H0V0z\" fill=\"none\"/>\n",
              "    <path d=\"M18.56 5.44l.94 2.06.94-2.06 2.06-.94-2.06-.94-.94-2.06-.94 2.06-2.06.94zm-11 1L8.5 8.5l.94-2.06 2.06-.94-2.06-.94L8.5 2.5l-.94 2.06-2.06.94zm10 10l.94 2.06.94-2.06 2.06-.94-2.06-.94-.94-2.06-.94 2.06-2.06.94z\"/><path d=\"M17.41 7.96l-1.37-1.37c-.4-.4-.92-.59-1.43-.59-.52 0-1.04.2-1.43.59L10.3 9.45l-7.72 7.72c-.78.78-.78 2.05 0 2.83L4 21.41c.39.39.9.59 1.41.59.51 0 1.02-.2 1.41-.59l7.78-7.78 2.81-2.81c.8-.78.8-2.07 0-2.86zM5.41 20L4 18.59l7.72-7.72 1.47 1.35L5.41 20z\"/>\n",
              "  </svg>\n",
              "      </button>\n",
              "      \n",
              "  <style>\n",
              "    .colab-df-container {\n",
              "      display:flex;\n",
              "      flex-wrap:wrap;\n",
              "      gap: 12px;\n",
              "    }\n",
              "\n",
              "    .colab-df-convert {\n",
              "      background-color: #E8F0FE;\n",
              "      border: none;\n",
              "      border-radius: 50%;\n",
              "      cursor: pointer;\n",
              "      display: none;\n",
              "      fill: #1967D2;\n",
              "      height: 32px;\n",
              "      padding: 0 0 0 0;\n",
              "      width: 32px;\n",
              "    }\n",
              "\n",
              "    .colab-df-convert:hover {\n",
              "      background-color: #E2EBFA;\n",
              "      box-shadow: 0px 1px 2px rgba(60, 64, 67, 0.3), 0px 1px 3px 1px rgba(60, 64, 67, 0.15);\n",
              "      fill: #174EA6;\n",
              "    }\n",
              "\n",
              "    [theme=dark] .colab-df-convert {\n",
              "      background-color: #3B4455;\n",
              "      fill: #D2E3FC;\n",
              "    }\n",
              "\n",
              "    [theme=dark] .colab-df-convert:hover {\n",
              "      background-color: #434B5C;\n",
              "      box-shadow: 0px 1px 3px 1px rgba(0, 0, 0, 0.15);\n",
              "      filter: drop-shadow(0px 1px 2px rgba(0, 0, 0, 0.3));\n",
              "      fill: #FFFFFF;\n",
              "    }\n",
              "  </style>\n",
              "\n",
              "      <script>\n",
              "        const buttonEl =\n",
              "          document.querySelector('#df-1acac6f2-0bd8-4619-9839-907bb961b546 button.colab-df-convert');\n",
              "        buttonEl.style.display =\n",
              "          google.colab.kernel.accessAllowed ? 'block' : 'none';\n",
              "\n",
              "        async function convertToInteractive(key) {\n",
              "          const element = document.querySelector('#df-1acac6f2-0bd8-4619-9839-907bb961b546');\n",
              "          const dataTable =\n",
              "            await google.colab.kernel.invokeFunction('convertToInteractive',\n",
              "                                                     [key], {});\n",
              "          if (!dataTable) return;\n",
              "\n",
              "          const docLinkHtml = 'Like what you see? Visit the ' +\n",
              "            '<a target=\"_blank\" href=https://colab.research.google.com/notebooks/data_table.ipynb>data table notebook</a>'\n",
              "            + ' to learn more about interactive tables.';\n",
              "          element.innerHTML = '';\n",
              "          dataTable['output_type'] = 'display_data';\n",
              "          await google.colab.output.renderOutput(dataTable, element);\n",
              "          const docLink = document.createElement('div');\n",
              "          docLink.innerHTML = docLinkHtml;\n",
              "          element.appendChild(docLink);\n",
              "        }\n",
              "      </script>\n",
              "    </div>\n",
              "  </div>\n",
              "  "
            ]
          },
          "metadata": {},
          "execution_count": 76
        }
      ]
    },
    {
      "cell_type": "code",
      "source": [
        "#Plot different features against one another (scatter), against frequency (histogram).\n",
        "info.country_code.value_counts().nlargest(40).plot(kind='bar', figsize=(10,5))\n",
        "plt.title(\"status distribution\")\n",
        "plt.ylabel('status')\n",
        "plt.xlabel('country_code');"
      ],
      "metadata": {
        "id": "6ruHbrJZ2A5g",
        "outputId": "598c5743-0064-4cea-8ba7-47ec2bf2dd03",
        "colab": {
          "base_uri": "https://localhost:8080/",
          "height": 389
        }
      },
      "execution_count": 142,
      "outputs": [
        {
          "output_type": "display_data",
          "data": {
            "text/plain": [
              "<Figure size 720x360 with 1 Axes>"
            ],
            "image/png": "[encoded data removed]"
          },
          "metadata": {
            "image/png": {
              "width": 633,
              "height": 372
            }
          }
        }
      ]
    },
    {
      "cell_type": "code",
      "source": [
        "info.category_list.value_counts().nlargest(40).plot(kind='bar', figsize=(10,5))\n",
        "plt.title(\"funding distribution\")\n",
        "plt.ylabel('funding_rounds')\n",
        "plt.xlabel('category_list');"
      ],
      "metadata": {
        "id": "5j2c9nor3D15",
        "outputId": "855d1340-1765-4a31-8a6d-2966d02d950b",
        "colab": {
          "base_uri": "https://localhost:8080/",
          "height": 530
        }
      },
      "execution_count": 144,
      "outputs": [
        {
          "output_type": "display_data",
          "data": {
            "text/plain": [
              "<Figure size 720x360 with 1 Axes>"
            ],
            "image/png": "[encoded data removed]"
          },
          "metadata": {
            "image/png": {
              "width": 626,
              "height": 513
            }
          }
        }
      ]
    }
  ]
}