{
  "nbformat": 4,
  "nbformat_minor": 0,
  "metadata": {
    "colab": {
      "provenance": [],
      "authorship_tag": "ABX9TyMpJqBTjJD5Wi0FL0OnwWQY",
      "include_colab_link": true
    },
    "kernelspec": {
      "name": "python3",
      "display_name": "Python 3"
    },
    "language_info": {
      "name": "python"
    }
  },
  "cells": [
    {
      "cell_type": "markdown",
      "metadata": {
        "id": "view-in-github",
        "colab_type": "text"
      },
      "source": [
        "<a href=\"https://colab.research.google.com/github/NileshCT/EDA_PROJECT/blob/main/New_codes_and_New_functions_for_EDA_and_modelling.ipynb\" target=\"_parent\"><img src=\"https://colab.research.google.com/assets/colab-badge.svg\" alt=\"Open In Colab\"/></a>"
      ]
    },
    {
      "cell_type": "code",
      "execution_count": null,
      "metadata": {
        "id": "bBwxfoe53fK8"
      },
      "outputs": [],
      "source": [
        "plt.style.use('fivethirtyeight')"
      ]
    },
    {
      "cell_type": "markdown",
      "source": [
        "plt.style.use('fivethirtyeight') is a line of code that applies the ‘fivethirtyeight’ style to a plot created using the matplotlib library in Python. The ‘fivethirtyeight’ style is similar to the plots on fivethirtyeight.com. Is there anything else you "
      ],
      "metadata": {
        "id": "i-KTRWzC4Ax5"
      }
    },
    {
      "cell_type": "code",
      "source": [
        "%matplotlib inline"
      ],
      "metadata": {
        "id": "yx27m6nw4DQh"
      },
      "execution_count": null,
      "outputs": []
    },
    {
      "cell_type": "markdown",
      "source": [
        "%matplotlib inline is a magic command in IPython that allows you to display matplotlib plots directly in the output area of a Jupyter notebook or a QtConsole. This means that you can view the plots without needing to open a separate window"
      ],
      "metadata": {
        "id": "dBdXC-JY4UrZ"
      }
    },
    {
      "cell_type": "code",
      "source": [
        "#Replace the missing values for numerical columns with mean\n",
        "train_df['LoanAmount'] = train_df['LoanAmount'].fillna(train_df['LoanAmount'].mean())\n",
        "train_df['Credit_History'] = train_df[‘Credit_History'].fillna(train_df['Credit_History'].mean())"
      ],
      "metadata": {
        "id": "6y7War_b4WZh"
      },
      "execution_count": null,
      "outputs": []
    },
    {
      "cell_type": "code",
      "source": [
        "#Replace the missing values for categorical columns with mode\n",
        "train_df['Gender'] = train_df['Gender'].fillna(train_df['Gender'].mode()[0])\n",
        "train_df['Married'] = train_df['Married'].fillna(train_df['Married'].mode()[0])\n",
        "train_df['Self_Employed'] = train_df[‘Self_Employed'].fillna(train_df['Self_Employed'].mode()[0])\n",
        "train_df.isnull().sum()\n"
      ],
      "metadata": {
        "id": "3Td1gFOp7mSu"
      },
      "execution_count": null,
      "outputs": []
    },
    {
      "cell_type": "code",
      "source": [],
      "metadata": {
        "id": "b1p2GaJd7uR4"
      },
      "execution_count": null,
      "outputs": []
    }
  ]
}