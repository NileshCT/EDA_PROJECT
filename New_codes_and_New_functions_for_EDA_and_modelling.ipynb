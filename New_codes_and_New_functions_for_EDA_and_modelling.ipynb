{
  "nbformat": 4,
  "nbformat_minor": 0,
  "metadata": {
    "colab": {
      "provenance": [],
      "authorship_tag": "ABX9TyMEsgyUvcz0iBTe1skJXVNc",
      "include_colab_link": true
    },
    "kernelspec": {
      "name": "python3",
      "display_name": "Python 3"
    },
    "language_info": {
      "name": "python"
    }
  },
  "cells": [
    {
      "cell_type": "markdown",
      "metadata": {
        "id": "view-in-github",
        "colab_type": "text"
      },
      "source": [
        "<a href=\"https://colab.research.google.com/github/NileshCT/EDA_PROJECT/blob/main/New_codes_and_New_functions_for_EDA_and_modelling.ipynb\" target=\"_parent\"><img src=\"https://colab.research.google.com/assets/colab-badge.svg\" alt=\"Open In Colab\"/></a>"
      ]
    },
    {
      "cell_type": "code",
      "execution_count": null,
      "metadata": {
        "id": "bBwxfoe53fK8"
      },
      "outputs": [],
      "source": [
        "plt.style.use('fivethirtyeight')"
      ]
    },
    {
      "cell_type": "markdown",
      "source": [
        "plt.style.use('fivethirtyeight') is a line of code that applies the ‘fivethirtyeight’ style to a plot created using the matplotlib library in Python. The ‘fivethirtyeight’ style is similar to the plots on fivethirtyeight.com. Is there anything else you "
      ],
      "metadata": {
        "id": "i-KTRWzC4Ax5"
      }
    },
    {
      "cell_type": "code",
      "source": [
        "%matplotlib inline"
      ],
      "metadata": {
        "id": "yx27m6nw4DQh"
      },
      "execution_count": null,
      "outputs": []
    },
    {
      "cell_type": "markdown",
      "source": [
        "%matplotlib inline is a magic command in IPython that allows you to display matplotlib plots directly in the output area of a Jupyter notebook or a QtConsole. This means that you can view the plots without needing to open a separate window"
      ],
      "metadata": {
        "id": "dBdXC-JY4UrZ"
      }
    },
    {
      "cell_type": "code",
      "source": [
        "#Replace the missing values for numerical columns with mean\n",
        "train_df['LoanAmount'] = train_df['LoanAmount'].fillna(train_df['LoanAmount'].mean())\n",
        "train_df['Credit_History'] = train_df[‘Credit_History'].fillna(train_df['Credit_History'].mean())"
      ],
      "metadata": {
        "id": "6y7War_b4WZh"
      },
      "execution_count": null,
      "outputs": []
    },
    {
      "cell_type": "code",
      "source": [
        "#Replace the missing values for categorical columns with mode\n",
        "train_df['Gender'] = train_df['Gender'].fillna(train_df['Gender'].mode()[0])\n",
        "train_df['Married'] = train_df['Married'].fillna(train_df['Married'].mode()[0])\n",
        "train_df['Self_Employed'] = train_df[‘Self_Employed'].fillna(train_df['Self_Employed'].mode()[0])\n",
        "train_df.isnull().sum()\n"
      ],
      "metadata": {
        "id": "3Td1gFOp7mSu"
      },
      "execution_count": null,
      "outputs": []
    },
    {
      "cell_type": "markdown",
      "source": [
        "This line of code is used to fill missing values in the ‘Gender’ column of the train_df DataFrame with the mode of the ‘Gender’ column. The fillna() method is used to fill missing values with a specified value. The mode() method returns the most common value in the column. Since mode() returns a Series, [0] is used to access the first element of the Series, which is the mode of the ‘Gender’ column."
      ],
      "metadata": {
        "id": "yJMw1yIC8Kyq"
      }
    },
    {
      "cell_type": "code",
      "source": [
        "#Filling with the median values.\n",
        "train_df['Loan_Amount_Term']= train_df['Loan_Amount_Term'].fillna(train_df['Loan_Amount_Term'].median())"
      ],
      "metadata": {
        "id": "b1p2GaJd7uR4"
      },
      "execution_count": null,
      "outputs": []
    },
    {
      "cell_type": "code",
      "source": [
        "f,ax=plt.subplots(1,2,figsize=(18,8))\n",
        "data['Survived'].value_counts().plot.pie(explode=[0,0.1],autopct='%1.1f%%',ax=ax[0],shadow=True)\n",
        "ax[0].set_title('Survived')\n",
        "ax[0].set_ylabel('')\n",
        "sns.countplot('Survived',data=data,ax=ax[1])\n",
        "ax[1].set_title('Survived')\n",
        "plt.show()"
      ],
      "metadata": {
        "id": "hp5NJVM48VYJ"
      },
      "execution_count": null,
      "outputs": []
    },
    {
      "cell_type": "markdown",
      "source": [
        "This code is to plot a subplot to give counts and there pie plot to get there percentage results."
      ],
      "metadata": {
        "id": "8tB3M9PH9HmA"
      }
    },
    {
      "cell_type": "code",
      "source": [
        "data.groupby(['Sex','Survived'])['Survived'].count()"
      ],
      "metadata": {
        "id": "cpUWu9cFtc3S"
      },
      "execution_count": null,
      "outputs": []
    },
    {
      "cell_type": "markdown",
      "source": [
        "groupby two feature and count the survied columns for each genter of the person."
      ],
      "metadata": {
        "id": "schsze2jvmtD"
      }
    },
    {
      "cell_type": "code",
      "source": [
        "f,ax=plt.subplots(1,2,figsize=(18,8))\n",
        "data[['Sex','Survived']].groupby(['Sex']).mean().plot.bar(ax=ax[0])\n",
        "ax[0].set_title('Survived vs Sex')\n",
        "sns.countplot('Sex',hue='Survived',data=data,ax=ax[1])\n",
        "ax[1].set_title('Sex:Survived vs Dead')\n",
        "plt.show()"
      ],
      "metadata": {
        "id": "f0clrmdbtc0E"
      },
      "execution_count": null,
      "outputs": []
    },
    {
      "cell_type": "code",
      "source": [
        "df.country.value_counts()"
      ],
      "metadata": {
        "id": "aYguKpkR4pxG"
      },
      "execution_count": null,
      "outputs": []
    },
    {
      "cell_type": "code",
      "source": [
        "df.country.value_counts().index()"
      ],
      "metadata": {
        "id": "dAlx8cbm4_RV"
      },
      "execution_count": null,
      "outputs": []
    },
    {
      "cell_type": "markdown",
      "source": [],
      "metadata": {
        "id": "Tqvq4K0BwJYd"
      }
    }
  ]
}